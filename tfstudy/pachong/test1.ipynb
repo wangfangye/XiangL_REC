{
 "cells": [
  {
   "cell_type": "code",
   "execution_count": 1,
   "metadata": {
    "collapsed": true
   },
   "outputs": [],
   "source": [
    "import urllib.request"
   ]
  },
  {
   "cell_type": "code",
   "execution_count": 2,
   "metadata": {},
   "outputs": [
    {
     "name": "stdout",
     "output_type": "stream",
     "text": [
      "b'<!DOCTYPE html>\\n<html lang=\"en\">\\n<head>\\n    <meta charset=\"UTF-8\">\\n    <meta name=\"viewport\" content=\"width=device-width, initial-scale=1.0\">\\n    <meta name=\"keywords\" content=\"\\xe5\\xb0\\x8f\\xe7\\x94\\xb2\\xe9\\xb1\\xbc,Web\\xe5\\xbc\\x80\\xe5\\x8f\\x91,HTML5,CSS3,Web\\xe7\\xbc\\x96\\xe7\\xa8\\x8b\\xe6\\x95\\x99\\xe5\\xad\\xa6\">\\n    <meta name=\"description\" content=\"\\xe3\\x80\\x8a\\xe9\\x9b\\xb6\\xe5\\x9f\\xba\\xe7\\xa1\\x80\\xe5\\x85\\xa5\\xe9\\x97\\xa8\\xe5\\xad\\xa6\\xe4\\xb9\\xa0Web\\xe5\\xbc\\x80\\xe5\\x8f\\x91\\xe3\\x80\\x8b\\xe6\\xa1\\x88\\xe4\\xbe\\x8b\\xe6\\xbc\\x94\\xe7\\xa4\\xba\">\\n    <meta name=\"author\" content=\"\\xe9\\xb1\\xbcC\\xe5\\xb7\\xa5\\xe4\\xbd\\x9c\\xe5\\xae\\xa4\">\\n    <title>\\xe9\\xb1\\xbcC\\xe8\\xaf\\xbe\\xe7\\xa8\\x8b\\xe8\\xb5\\x84\\xe6\\xba\\x90</title>\\n    <link rel=\"shortcut icon\" type=\"image/x-icon\" href=\"img/favicon.ico\">\\n    <link rel=\"stylesheet\" href=\"css/styles.css\">\\n    <script src=\"js/jq.js\"></script>\\n    <script src=\"https://cdn.bootcss.com/timelinejs/2.36.0/js/storyjs-embed.js\"></script>\\n    <script>\\n        $(document).ready(function() {\\n            var windowHeight = document.documentElement.clientHeight || document.body.clientHeight;\\n\\n            createStoryJS({\\n                type:       \\'timeline\\',\\n                width:      \\'auto\\',\\n                height:     windowHeight,\\n                source:     \\'data.json\\',\\n                start_at_end:true,                          //OPTIONAL START AT LATEST DATE\\n                embed_id:   \\'my-timeline\\'\\n            });\\n\\n        });\\n    </script>\\n    <!-- END TimelineJS -->\\n</head>\\n<body>\\n<div id=\"my-timeline\"></div>\\n</body>\\n</html>'\n"
     ]
    }
   ],
   "source": [
    "response = urllib.request.urlopen(\"http://www.fishc.com\")\n",
    "html = response.read()\n",
    "print(html)"
   ]
  },
  {
   "cell_type": "code",
   "execution_count": 3,
   "metadata": {},
   "outputs": [],
   "source": [
    "html = html.decode(\"utf-8\")"
   ]
  },
  {
   "cell_type": "code",
   "execution_count": 4,
   "metadata": {},
   "outputs": [
    {
     "name": "stdout",
     "output_type": "stream",
     "text": [
      "<!DOCTYPE html>\n<html lang=\"en\">\n<head>\n    <meta charset=\"UTF-8\">\n    <meta name=\"viewport\" content=\"width=device-width, initial-scale=1.0\">\n    <meta name=\"keywords\" content=\"小甲鱼,Web开发,HTML5,CSS3,Web编程教学\">\n    <meta name=\"description\" content=\"《零基础入门学习Web开发》案例演示\">\n    <meta name=\"author\" content=\"鱼C工作室\">\n    <title>鱼C课程资源</title>\n    <link rel=\"shortcut icon\" type=\"image/x-icon\" href=\"img/favicon.ico\">\n    <link rel=\"stylesheet\" href=\"css/styles.css\">\n    <script src=\"js/jq.js\"></script>\n    <script src=\"https://cdn.bootcss.com/timelinejs/2.36.0/js/storyjs-embed.js\"></script>\n    <script>\n        $(document).ready(function() {\n            var windowHeight = document.documentElement.clientHeight || document.body.clientHeight;\n\n            createStoryJS({\n                type:       'timeline',\n                width:      'auto',\n                height:     windowHeight,\n                source:     'data.json',\n                start_at_end:true,                          //OPTIONAL START AT LATEST DATE\n                embed_id:   'my-timeline'\n            });\n\n        });\n    </script>\n    <!-- END TimelineJS -->\n</head>\n<body>\n<div id=\"my-timeline\"></div>\n</body>\n</html>\n"
     ]
    }
   ],
   "source": [
    "print(html\n",
    "      )"
   ]
  },
  {
   "cell_type": "code",
   "execution_count": null,
   "metadata": {},
   "outputs": [],
   "source": []
  }
 ],
 "metadata": {
  "kernelspec": {
   "display_name": "Python 2",
   "language": "python",
   "name": "python2"
  },
  "language_info": {
   "codemirror_mode": {
    "name": "ipython",
    "version": 2
   },
   "file_extension": ".py",
   "mimetype": "text/x-python",
   "name": "python",
   "nbconvert_exporter": "python",
   "pygments_lexer": "ipython2",
   "version": "2.7.6"
  }
 },
 "nbformat": 4,
 "nbformat_minor": 0
}
