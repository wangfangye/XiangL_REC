{
 "cells": [
  {
   "cell_type": "code",
   "execution_count": 1,
   "metadata": {
    "collapsed": true
   },
   "outputs": [],
   "source": [
    "import urllib.request"
   ]
  },
  {
   "cell_type": "code",
   "execution_count": 27,
   "metadata": {},
   "outputs": [],
   "source": [
    "response = urllib.request.urlopen('http://placekitten.com/500/600')\n",
    "html = response.read()"
   ]
  },
  {
   "cell_type": "code",
   "execution_count": 11,
   "metadata": {},
   "outputs": [],
   "source": [
    "with open('html_500_600.jpg','wb') as f:\n",
    "    f.write(html)"
   ]
  },
  {
   "cell_type": "code",
   "execution_count": 21,
   "metadata": {},
   "outputs": [],
   "source": [
    "url = \"http://fanyi.youdao.com/translate_o?smartresult=dict&smartresult=rule\"\n",
    "data = {}\n",
    "data['i'] = 'I dont  want'\n",
    "data['from']='AUTO'\n",
    "data['to']='AUTO'\n",
    "data['smartresult']='dict'\n",
    "data['client']='fanyideskweb'\n",
    "data['salt']='1532743384732'\n",
    "data['sign']='a8eae81d2762b07df89917efbae73249'\n",
    "data['doctype']='json'\n",
    "data['version']='2.1'\n",
    "data['keyfrom']='fanyi.web'\n",
    "data['action']='FY_BY_CLICKBUTTION'\n",
    "data['typoResult']='true'"
   ]
  },
  {
   "cell_type": "code",
   "execution_count": 22,
   "metadata": {},
   "outputs": [],
   "source": [
    "data = urllib.parse.urlencode(data).encode('utf-8')\n",
    "response = urllib.request.urlopen(url,data)\n",
    "html = response.read().decode(\"utf-8\")"
   ]
  },
  {
   "cell_type": "code",
   "execution_count": 23,
   "metadata": {},
   "outputs": [
    {
     "name": "stdout",
     "output_type": "stream",
     "text": [
      "{\"errorCode\":50}\n"
     ]
    }
   ],
   "source": [
    "print(html)"
   ]
  },
  {
   "cell_type": "code",
   "execution_count": 7,
   "metadata": {},
   "outputs": [
    {
     "ename": "StdinNotImplementedError",
     "evalue": "raw_input was called, but this frontend does not support input requests.",
     "traceback": [
      "\u001b[1;31m---------------------------------------------------------------------------\u001b[0m",
      "\u001b[1;31mStdinNotImplementedError\u001b[0m                  Traceback (most recent call last)",
      "\u001b[1;32m<ipython-input-7-7db3bcfc5500>\u001b[0m in \u001b[0;36m<module>\u001b[1;34m()\u001b[0m\n\u001b[0;32m      5\u001b[0m \u001b[1;33m\u001b[0m\u001b[0m\n\u001b[0;32m      6\u001b[0m \u001b[1;31m# 注意这里用unicode编码，否则会显示乱码\u001b[0m\u001b[1;33m\u001b[0m\u001b[1;33m\u001b[0m\u001b[0m\n\u001b[1;32m----> 7\u001b[1;33m \u001b[0mcontent\u001b[0m \u001b[1;33m=\u001b[0m \u001b[0minput\u001b[0m\u001b[1;33m(\u001b[0m\u001b[1;34m\"请输入要翻译的内容：\"\u001b[0m\u001b[1;33m)\u001b[0m\u001b[1;33m\u001b[0m\u001b[0m\n\u001b[0m\u001b[0;32m      8\u001b[0m \u001b[1;31m# 网址是Fig6中的 Response URL\u001b[0m\u001b[1;33m\u001b[0m\u001b[1;33m\u001b[0m\u001b[0m\n\u001b[0;32m      9\u001b[0m \u001b[0murl\u001b[0m \u001b[1;33m=\u001b[0m \u001b[1;34m'http://fanyi.youdao.com/translate?smartresult=dict&smartresult=rule&smartresult=ugc&sessionFrom=http://www.youdao.com/'\u001b[0m\u001b[1;33m\u001b[0m\u001b[0m\n",
      "\u001b[1;32mD:\\allsoftware\\Anaconda3\\lib\\site-packages\\ipykernel\\kernelbase.py\u001b[0m in \u001b[0;36mraw_input\u001b[1;34m(self, prompt)\u001b[0m\n\u001b[0;32m    698\u001b[0m         \u001b[1;32mif\u001b[0m \u001b[1;32mnot\u001b[0m \u001b[0mself\u001b[0m\u001b[1;33m.\u001b[0m\u001b[0m_allow_stdin\u001b[0m\u001b[1;33m:\u001b[0m\u001b[1;33m\u001b[0m\u001b[0m\n\u001b[0;32m    699\u001b[0m             raise StdinNotImplementedError(\n\u001b[1;32m--> 700\u001b[1;33m                 \u001b[1;34m\"raw_input was called, but this frontend does not support input requests.\"\u001b[0m\u001b[1;33m\u001b[0m\u001b[0m\n\u001b[0m\u001b[0;32m    701\u001b[0m             )\n\u001b[0;32m    702\u001b[0m         return self._input_request(str(prompt),\n",
      "\u001b[1;31mStdinNotImplementedError\u001b[0m: raw_input was called, but this frontend does not support input requests."
     ],
     "output_type": "error"
    }
   ],
   "source": [
    "# -*- coding:utf-8 -*-  \n",
    " \n",
    "import urllib\n",
    "import json\n",
    " \n",
    "# 注意这里用unicode编码，否则会显示乱码\n",
    "content = input(\"请输入要翻译的内容：\")\n",
    "# 网址是Fig6中的 Response URL\n",
    "url = 'http://fanyi.youdao.com/translate?smartresult=dict&smartresult=rule&smartresult=ugc&sessionFrom=http://www.youdao.com/'\n",
    "# 爬下来的数据 data格式是Fig7中的 Form Data\n",
    "data = {}\n",
    "data['type'] = 'AUTO'\n",
    "data['i'] = content\n",
    "data['doctype'] = 'json'\n",
    "data['xmlVersion'] = '1.6'\n",
    "data['keyfrom'] = 'fanyi.web'\n",
    "data['ue'] = 'UTF-8'\n",
    "data['typoResult'] = 'true'\n",
    "\n",
    "# 数据编码\n",
    "data = urllib.urlencode(data)\n",
    " \n",
    "# 按照data的格式从url爬内容\n",
    "response = urllib.urlopen(url, data)\n",
    " # 将爬到的内容读出到变量字符串html，\n",
    "html = response.read()\n",
    "# 将字符串转换成Fig8所示的字典形式\n",
    "target = json.loads(html)\n",
    "# 根据Fig8的格式，取出最终的翻译结果\n",
    "result = target[\"translateResult\"][0][0]['tgt']\n",
    " \n",
    "# 这里用unicode显示中文，避免乱码\n",
    "print(u\"翻译结果：%s\" % (target[\"translateResult\"][0][0]['tgt']))"
   ]
  },
  {
   "cell_type": "code",
   "execution_count": 24,
   "metadata": {},
   "outputs": [],
   "source": []
  },
  {
   "cell_type": "code",
   "execution_count": 24,
   "metadata": {},
   "outputs": [],
   "source": []
  },
  {
   "cell_type": "code",
   "execution_count": 24,
   "metadata": {},
   "outputs": [],
   "source": []
  },
  {
   "cell_type": "code",
   "execution_count": null,
   "metadata": {},
   "outputs": [],
   "source": []
  }
 ],
 "metadata": {
  "kernelspec": {
   "display_name": "Python 2",
   "language": "python",
   "name": "python2"
  },
  "language_info": {
   "codemirror_mode": {
    "name": "ipython",
    "version": 2
   },
   "file_extension": ".py",
   "mimetype": "text/x-python",
   "name": "python",
   "nbconvert_exporter": "python",
   "pygments_lexer": "ipython2",
   "version": "2.7.6"
  }
 },
 "nbformat": 4,
 "nbformat_minor": 0
}
