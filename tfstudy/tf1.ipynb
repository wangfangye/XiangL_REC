{
 "cells": [
  {
   "cell_type": "code",
   "execution_count": 1,
   "metadata": {
    "collapsed": true
   },
   "outputs": [
    {
     "name": "stdout",
     "output_type": "stream",
     "text": [
      "ss\n"
     ]
    }
   ],
   "source": [
    "print(\"ss\")\n"
   ]
  },
  {
   "cell_type": "code",
   "execution_count": 4,
   "metadata": {},
   "outputs": [
    {
     "name": "stdout",
     "output_type": "stream",
     "text": [
      "[3. 8.]\n[3. 8.]\n"
     ]
    }
   ],
   "source": [
    "import tensorflow as tf\n",
    "a = tf.constant([1.0,2.0])\n",
    "b = tf.constant([3.0,4.0])\n",
    "c = tf.multiply(a,b)\n",
    "init = tf.global_variables_initializer()\n",
    "with tf.Session() as sess:\n",
    "    sess.run(init)\n",
    "    print(sess.run(c))\n",
    "    print(c.eval())\n",
    "    \n",
    "\n"
   ]
  },
  {
   "cell_type": "code",
   "execution_count": 22,
   "metadata": {},
   "outputs": [
    {
     "name": "stdout",
     "output_type": "stream",
     "text": [
      "14.0\n"
     ]
    }
   ],
   "source": [
    "state = tf.Variable(0,name = \"counter\")\n",
    "input1 = tf.constant(3.0)\n",
    "input1 = tf.placeholder(tf.float32)\n",
    "input2 = tf.placeholder(tf.float32)\n",
    "output = tf.multiply(input1,input2)\n",
    "with tf.Session() as sess:\n",
    "    print(sess.run(output,feed_dict={input1:7.0,input2:2.0}))\n",
    "    "
   ]
  },
  {
   "cell_type": "code",
   "execution_count": 7,
   "metadata": {},
   "outputs": [
    {
     "name": "stdout",
     "output_type": "stream",
     "text": [
      "build a graph\na: Tensor(\"Const_7:0\", shape=(2, 2), dtype=int32)\nb: Tensor(\"Const_8:0\", shape=(2, 2), dtype=int32)\ntype of a: <class 'tensorflow.python.framework.ops.Tensor'>\nc: Tensor(\"MatMul_1:0\", shape=(2, 2), dtype=int32)\n\n\nexcuted in Session\nresult_a:\n [[1 2]\n [3 4]]\nresult_a2:\n [[1 2]\n [3 4]]\nresult_b:\n [[1 1]\n [0 1]]\nresult_c:\n [[1 3]\n [3 7]]\n"
     ]
    }
   ],
   "source": [
    "from __future__ import print_function,division\n",
    "import tensorflow as tf\n",
    "\n",
    "#build a graph\n",
    "print(\"build a graph\")\n",
    "a=tf.constant([[1,2],[3,4]])\n",
    "b=tf.constant([[1,1],[0,1]])\n",
    "print(\"a:\",a)\n",
    "print(\"b:\",b)\n",
    "print(\"type of a:\",type(a))\n",
    "c=tf.matmul(a,b)\n",
    "print(\"c:\",c)\n",
    "print(\"\\n\")\n",
    "#construct a 'Session' to excute the graph\n",
    "sess=tf.Session()\n",
    "\n",
    "# Execute the graph and store the value that `c` represents in `result`.\n",
    "print(\"excuted in Session\")\n",
    "result_a=sess.run(a)\n",
    "result_a2=a.eval(session=sess)\n",
    "print(\"result_a:\\n\",result_a)\n",
    "print(\"result_a2:\\n\",result_a2)\n",
    "\n",
    "result_b=sess.run(b)\n",
    "print(\"result_b:\\n\",result_b)\n",
    "\n",
    "result_c=sess.run(c)\n",
    "print(\"result_c:\\n\",result_c)"
   ]
  },
  {
   "cell_type": "code",
   "execution_count": 10,
   "metadata": {},
   "outputs": [
    {
     "name": "stdout",
     "output_type": "stream",
     "text": [
      "(2, 3)\n(4, 2)\n"
     ]
    }
   ],
   "source": [
    "c = tf.constant([[1.0, 2.0, 3.0], [4.0, 5.0, 6.0]])\n",
    "print(c.get_shape())\n",
    "# ==> TensorShape([Dimension(2), Dimension(3)])\n",
    "\n",
    "d = tf.constant([[1.0, 0.0], [0.0, 1.0], [1.0, 0.0], [0.0, 1.0]])\n",
    "print(d.get_shape())\n",
    "# ==> TensorShape([Dimension(4), Dimension(2)])\n",
    "\n",
    "# Raises a ValueError, because `c` and `d` do not have compatible\n",
    "# inner dimensions.\n",
    "# e = tf.matmul(c, d)\n",
    "# \n",
    "# f = tf.matmul(c, d, transpose_a=True, transpose_b=True)\n",
    "# print(f.get_shape())\n",
    "# ==> TensorShape([Dimension(3), Dimension(4)])"
   ]
  },
  {
   "cell_type": "code",
   "execution_count": 11,
   "metadata": {},
   "outputs": [
    {
     "name": "stdout",
     "output_type": "stream",
     "text": [
      "Tensor(\"Sigmoid:0\", shape=(2, 2), dtype=float32)\n[[0.95257413 0.95257413]\n [0.999089   0.999089  ]]\n"
     ]
    }
   ],
   "source": [
    "from __future__ import print_function,division\n",
    "import numpy as np\n",
    "import tensorflow as tf\n",
    "\n",
    "#create a Variable\n",
    "w=tf.Variable(initial_value=[[1,2],[3,4]],dtype=tf.float32)\n",
    "x=tf.Variable(initial_value=[[1,1],[1,1]],dtype=tf.float32)\n",
    "y=tf.matmul(w,x)\n",
    "z=tf.sigmoid(y)\n",
    "print(z)\n",
    "init_op=tf.global_variables_initializer()\n",
    "\n",
    "\n",
    "with tf.Session() as session:\n",
    "    session.run(init_op)\n",
    "    z=session.run(z)\n",
    "    print(z)"
   ]
  },
  {
   "cell_type": "code",
   "execution_count": 12,
   "metadata": {},
   "outputs": [
    {
     "name": "stdout",
     "output_type": "stream",
     "text": [
      "[1 2]\n[1 2]\n"
     ]
    }
   ],
   "source": [
    "v = tf.Variable([1, 2])\n",
    "init = tf.global_variables_initializer()\n",
    "\n",
    "with tf.Session() as sess:\n",
    "    sess.run(init)\n",
    "    # Usage passing the session explicitly.\n",
    "    print(v.eval(sess))\n",
    "    # Usage with the default session.  The 'with' block\n",
    "    # above makes 'sess' the default session.\n",
    "    print(v.eval())"
   ]
  },
  {
   "cell_type": "code",
   "execution_count": 14,
   "metadata": {},
   "outputs": [],
   "source": [
    "# Initialize 'v' with a random tensor.\n",
    "v = tf.Variable(tf.truncated_normal([10, 40]))\n",
    "# Use `initialized_value` to guarantee that `v` has been\n",
    "# initialized before its value is used to initialize `w`.\n",
    "# The random values are picked only once.\n",
    "w = tf.Variable(v.initialized_value() * 2.0)"
   ]
  },
  {
   "cell_type": "code",
   "execution_count": 15,
   "metadata": {},
   "outputs": [
    {
     "name": "stdout",
     "output_type": "stream",
     "text": [
      "[3 4]\n"
     ]
    }
   ],
   "source": [
    "from __future__ import  print_function,division\n",
    "import numpy as np\n",
    "import tensorflow as tf\n",
    "\n",
    "v=tf.Variable(initial_value=[1,2])\n",
    "init=tf.global_variables_initializer()\n",
    "\n",
    "with tf.Session() as sess:\n",
    "    sess.run(init)\n",
    "    #显式地传递session到函数里面\n",
    "    v.load(value=[3,4],session=sess)\n",
    "    print(v.eval(session=sess))"
   ]
  },
  {
   "cell_type": "code",
   "execution_count": 16,
   "metadata": {},
   "outputs": [
    {
     "name": "stdout",
     "output_type": "stream",
     "text": [
      "a: Tensor(\"a:0\", shape=(), dtype=float32)\nname of a: a:0\nb: Tensor(\"b:0\", shape=(2, 2), dtype=float32)\ntype of b: <class 'tensorflow.python.framework.ops.Tensor'>\nresult_a: 1.0\ntype of result_a: <class 'numpy.float32'>\n"
     ]
    }
   ],
   "source": [
    "from __future__ import print_function,division\n",
    "import tensorflow as tf\n",
    "\n",
    "#build graph\n",
    "a=tf.constant(1.,name=\"a\")\n",
    "print(\"a:\",a)\n",
    "print(\"name of a:\",a.name)\n",
    "b=tf.constant(1.,shape=[2,2],name=\"b\")\n",
    "print(\"b:\",b)\n",
    "print(\"type of b:\",type(b))\n",
    "\n",
    "#construct session\n",
    "sess=tf.Session()\n",
    "\n",
    "#run in session\n",
    "result_a=sess.run(a)\n",
    "print(\"result_a:\",result_a)\n",
    "print(\"type of result_a:\",type(result_a))"
   ]
  },
  {
   "cell_type": "code",
   "execution_count": 21,
   "metadata": {
    "collapsed": true
   },
   "outputs": [
    {
     "name": "stdout",
     "output_type": "stream",
     "text": [
      "[[ 6.255611   5.7970886  6.607641   6.4982495  6.5818825  6.0667667\n   6.3986173  4.8554     7.081011   6.9581776  6.2278786  7.4192357\n   4.8286767  5.6656375  6.330068   6.7661896  6.519813   5.1950736\n   4.563998   8.551527   7.2255287  5.703436   5.925646   5.879561 ]\n [ 5.8394413  6.4727526  6.82571    6.0556283  5.8792453  6.434738\n   5.543522   5.662057   7.309164   5.6358523  5.595095   6.4442554\n   5.511141   6.671219   5.8119373  5.597594   6.28294    4.6503415\n   5.0894766  7.847976   6.610932   6.9318657  4.564285   6.0612607]\n [ 5.6466293  6.3240314  7.263344   7.7690754  5.600555   7.9683757\n   7.349066   5.213739   7.892042   7.112302   6.84916    7.8264546\n   6.1412187  6.29309    7.0000257  6.226399   7.690059   5.428433\n   6.4343657  8.167297   8.170802   7.905232   5.7970014  6.561057 ]\n [ 5.0344973  6.136187   6.917412   7.181156   4.814885   6.330578\n   6.2364616  4.9186068  7.7930417  6.192325   6.2474947  6.029177\n   4.7787127  5.642283   6.7212114  5.042324   6.5335336  4.8369765\n   5.7053013  7.4076233  7.375657   7.391787   4.72968    5.5161705]\n [ 4.9569697  5.1988497  5.349033   5.256252   5.419933   6.2038918\n   6.2398477  3.6913466  5.9541655  5.1983323  5.583761   5.8818426\n   4.8077     5.361141   5.1935945  5.6266193  5.8614225  5.0040393\n   4.5348024  6.4046307  6.2616467  6.140476   3.9582536  5.197601 ]\n [ 5.2514663  6.0776916  6.967744   5.655162   5.621109   5.403816\n   6.139958   4.6183047  6.7232866  5.427664   5.4915466  6.2410564\n   5.4888773  5.7597194  5.5963182  5.721319   6.2079835  5.281366\n   4.330306   7.127194   6.867461   5.8657093  5.2619166  5.878172 ]\n [ 6.1103063  6.0688944  6.8448553  6.7145452  6.018409   6.4852905\n   6.652049   5.5481153  7.3005977  7.411807   6.583041   7.0276084\n   4.865357   5.3678136  7.2392087  6.8468375  6.35787    5.2704434\n   5.044444   8.765315   8.429416   7.034893   6.0252323  6.2593   ]\n [ 5.49192    6.241717   6.5796404  5.8260117  5.650592   6.34558\n   6.2528687  5.078388   7.1692533  6.6391225  5.6728797  6.5369616\n   4.913807   5.608122   6.3078923  6.0314074  6.7592783  4.9387617\n   4.926614   8.174707   7.2249894  6.6885333  5.3702188  6.0141616]\n [ 4.943901   6.028521   6.4912405  6.368902   4.857982   6.4707184\n   5.7867184  3.822574   6.7178736  5.953751   6.691865   6.843885\n   5.0718713  5.4941816  5.956926   5.1349487  6.6068296  4.7307196\n   4.839191   6.710131   7.1637383  6.7277308  4.632197   4.4413385]\n [ 5.5343976  5.9781013  6.480676   6.427249   5.7783017  5.991846\n   6.08053    4.9331245  7.6331873  6.0579777  6.0436096  6.16268\n   5.103949   6.25333    5.6283655  7.0667887  6.693142   5.655807\n   4.4240656  7.3473516  7.0225153  5.7570934  4.8014607  6.426053 ]\n [ 7.274637   8.020975   8.852029   8.67655    7.894026   8.011311\n   8.548492   6.8056602  9.906945   8.258461   7.63959    8.734816\n   6.367956   8.402979   7.560059   8.70797    8.990402   6.292763\n   5.858486  10.356261   9.60526    9.1155     6.979273   7.4530926]\n [ 5.6068125  5.773295   7.165461   6.70477    6.369146   6.8194394\n   7.336912   5.1028314  6.6516004  6.9484725  6.6499043  7.4881034\n   5.1243176  5.6184373  6.550624   6.1037498  6.518178   5.6492167\n   5.30055    8.460628   7.7204995  7.14933    5.9542847  5.4881477]\n [ 5.9076     6.1758265  7.0303636  6.9024916  6.71653    6.1274605\n   6.8574677  5.030493   7.0294867  6.307991   6.2561526  6.600065\n   4.900646   6.24325    5.838112   6.6099033  7.5484953  5.9835014\n   4.396671   7.2536035  7.7017775  7.390501   5.000836   5.780182 ]\n [ 4.9625716  6.4060698  7.189486   6.729518   6.56665    5.7956796\n   6.3818817  3.7725468  7.5130997  6.911379   7.2054353  7.0576324\n   5.01964    6.306402   6.884433   5.4868073  7.6727266  5.833049\n   4.7406006  8.067111   8.074938   7.270171   5.1171203  5.940163 ]\n [ 4.7911334  5.445474   5.5634007  5.4678683  5.2226624  4.925445\n   5.58069    3.8867052  5.7571754  5.53124    5.2105713  6.4597597\n   4.8510065  4.419309   5.9109416  5.183319   5.257499   5.2912226\n   4.0918484  6.3012304  7.3494134  6.215163   4.5454187  4.7075157]\n [ 5.708481   7.2376657  7.7751937  6.55413    6.1694565  7.5172486\n   7.9335284  4.9598866  7.596848   6.503659   6.5134096  7.1307507\n   5.3129253  6.4727235  6.744192   6.3387227  8.002549   6.091045\n   6.038914   8.660353   8.913654   7.9826584  5.399247   6.086055 ]\n [ 5.2393966  6.259137   6.9726586  6.561493   5.034525   5.5778794\n   6.955764   4.721501   7.0025434  6.325096   5.957347   6.318732\n   5.0975857  5.451089   6.8908463  5.449419   6.9590807  4.960566\n   4.8010597  7.0066485  7.10366    7.6852684  5.3585157  6.070313 ]\n [ 6.1741486  5.9848495  7.298277   6.9330883  6.694495   6.100824\n   6.947915   5.5199733  7.6120043  7.618101   7.085783   7.754125\n   5.076573   5.7219605  6.6418695  6.8468328  6.4148808  5.350403\n   4.523235   7.8796144  8.976979   7.6280646  5.80565    6.3606906]\n [ 5.8588247  5.647496   5.9302187  5.272538   6.239302   5.7251396\n   5.781704   4.649621   5.7114897  6.672386   6.308205   6.890652\n   4.399688   5.477675   5.614143   5.9091167  5.975032   4.7385883\n   3.9531913  7.897326   6.7818117  5.7876196  5.4581394  6.0538154]\n [ 6.3127203  6.82551    7.3037395  6.8919334  7.416895   6.3863754\n   6.498046   5.5112014  7.5081263  7.516093   7.6959705  7.3637085\n   4.7856007  6.8135843  6.3833165  6.5623865  7.6037903  6.09636\n   4.8666306  9.297171   8.349028   7.1151075  6.1014276  6.84412  ]\n [ 4.357887   5.680633   6.1590824  5.8137317  5.0831084  5.594734\n   6.28547    4.021824   7.12951    6.3084774  5.6927304  6.1997705\n   5.0105047  5.307269   5.5372157  5.8809166  6.196885   5.006509\n   4.5071197  7.138878   7.292568   6.104074   5.4766445  5.8718767]\n [ 4.6010027  6.0624127  7.2101192  6.236244   5.5392714  5.6140804\n   5.9856877  4.7946258  7.522748   6.3853955  5.9833055  5.713503\n   4.790287   6.0452952  5.559241   6.165498   6.920603   4.697967\n   4.46267    7.6086135  7.6363544  6.5818324  5.637825   6.2796054]\n [ 5.6878014  7.1167555  7.7665854  7.184092   6.0126348  6.4535794\n   7.190083   5.0294137  9.061317   6.4407945  6.9264445  6.5339036\n   5.026074   7.299307   6.693534   6.8876143  7.6410275  5.870677\n   5.841903   9.004414   8.61179    7.4571157  5.586329   6.375423 ]\n [ 6.553039   7.6241403  8.712225   8.665219   6.7762537  8.035103\n   7.97477    6.267811   9.270256   7.5823483  7.373854   7.3829226\n   5.925172   7.486387   7.749215   7.856291   8.827278   6.3807664\n   6.023472   9.660924   9.092938   9.064112   6.4820304  7.1885304]]\n"
     ]
    }
   ],
   "source": [
    "x = tf.placeholder(tf.float32, shape=(24, 24))\n",
    "import numpy as np\n",
    "y = tf.matmul(x, x)\n",
    "\n",
    "with tf.Session() as sess:\n",
    "  # print(sess.run(y))  # ERROR: will fail because x was not fed.\n",
    "  rand_array = np.random.rand(24, 24)\n",
    "  print(sess.run(y, feed_dict={x: rand_array}))  # Will succeed."
   ]
  },
  {
   "cell_type": "code",
   "execution_count": 23,
   "metadata": {},
   "outputs": [
    {
     "name": "stdout",
     "output_type": "stream",
     "text": [
      "result: [7. 7.]\n"
     ]
    }
   ],
   "source": [
    "# -*- coding: utf-8 -*- \n",
    "\n",
    "from __future__ import print_function,division\n",
    "import tensorflow as tf\n",
    "\n",
    "#building the graph\n",
    "\n",
    "'''\n",
    "创建一个常量操作（op）产生 1x2 矩阵，这个操作（op）作为一个节点添加到默认的图中，但是这里这个矩阵并不是一个值，而是一个tensor。\n",
    "创建另外一个常量操作产生一个1x2 矩阵（解释如上）\n",
    "'''\n",
    "mat1=tf.constant([3.,3.],name=\"mat1\")\n",
    "mat2=tf.constant([4.,4.],name=\"mat2\")\n",
    "\n",
    "#matrix sum.\n",
    "s=tf.add(mat1,mat2)\n",
    "\n",
    "'''\n",
    "这个默认的图（grapg）现在已经有3个节点了：两个constan（）操作和一个add（）操作。为了真正的得到这个和的值，你需要把这个图投放到一个session里面执行。\n",
    "'''\n",
    "\n",
    "# Launch the default graph.\n",
    "sess = tf.Session()\n",
    "\n",
    "'''\n",
    "为了得到和的值，我们要运行add 操作（op），因此我们在session里面调用“run（）”函数，把代表add op的输出结果s传到函数里面去。表明我们想从add（）操作得到输出。\n",
    "'''\n",
    "result=sess.run(s)\n",
    "print(\"result:\",result)\n",
    "\n",
    "# Close the Session when we're done.\n",
    "sess.close()"
   ]
  },
  {
   "cell_type": "code",
   "execution_count": 24,
   "metadata": {},
   "outputs": [
    {
     "name": "stdout",
     "output_type": "stream",
     "text": [
      "the name of this variable: state:0\nWARNING:tensorflow:From D:\\allsoftware\\Anaconda3\\lib\\site-packages\\tensorflow\\python\\util\\tf_should_use.py:118: initialize_all_variables (from tensorflow.python.ops.variables) is deprecated and will be removed after 2017-03-02.\nInstructions for updating:\nUse `tf.global_variables_initializer` instead.\n"
     ]
    },
    {
     "name": "stdout",
     "output_type": "stream",
     "text": [
      "0\nvalue of state: 1\nvalue of state: 2\nvalue of state: 3\n"
     ]
    }
   ],
   "source": [
    "# -*- coding: utf-8 -*- \n",
    "\n",
    "from __future__ import print_function,division\n",
    "import tensorflow as tf\n",
    "\n",
    "#building the graph\n",
    "\n",
    "#Create a Variable, that will be initialized to the scalar value 0.\n",
    "state=tf.Variable(0,name=\"state\")\n",
    "print(\"the name of this variable:\",state.name)\n",
    "\n",
    "# Create an Op to add 1 to `state`.\n",
    "one = tf.constant(1)\n",
    "new_value = tf.add(state, one)\n",
    "update = tf.assign(state, new_value)\n",
    "\n",
    "# Variables must be initialized by running an `init` Op after having\n",
    "# launched the graph.  We first have to add the `init` Op to the graph.\n",
    "init_op = tf.initialize_all_variables()\n",
    "\n",
    "# Launch the graph and run the ops.\n",
    "with tf.Session() as sess:\n",
    "  # Run the 'init' op\n",
    "  sess.run(init_op)\n",
    "  # Print the initial value of 'state'\n",
    "  print(sess.run(state))\n",
    "  # Run the op that updates 'state' and print 'state'.\n",
    "  for _ in range(3):\n",
    "    sess.run(update)\n",
    "    print(\"value of state:\",sess.run(state))"
   ]
  },
  {
   "cell_type": "code",
   "execution_count": 27,
   "metadata": {
    "collapsed": true
   },
   "outputs": [
    {
     "name": "stdout",
     "output_type": "stream",
     "text": [
      "#fetch example\nafter run:\n [array([1., 2., 3.], dtype=float32), array([4., 5., 6.], dtype=float32), array([0., 4., 2.], dtype=float32), array([5., 7., 9.], dtype=float32), array([ 0., 28., 18.], dtype=float32)]\n\n\n\nfeed example\n"
     ]
    },
    {
     "ename": "InvalidArgumentError",
     "evalue": "In[0] and In[1] ndims must be >= 2: 1\n\t [[Node: MatMul_9 = BatchMatMul[T=DT_FLOAT, adj_x=false, adj_y=false, _device=\"/job:localhost/replica:0/task:0/device:CPU:0\"](_arg_Placeholder_14_0_0, _arg_Placeholder_15_0_1)]]\n\nCaused by op 'MatMul_9', defined at:\n  File \"D:\\allsoftware\\Anaconda3\\lib\\runpy.py\", line 193, in _run_module_as_main\n    \"__main__\", mod_spec)\n  File \"D:\\allsoftware\\Anaconda3\\lib\\runpy.py\", line 85, in _run_code\n    exec(code, run_globals)\n  File \"D:\\allsoftware\\Anaconda3\\lib\\site-packages\\ipykernel_launcher.py\", line 16, in <module>\n    app.launch_new_instance()\n  File \"D:\\allsoftware\\Anaconda3\\lib\\site-packages\\traitlets\\config\\application.py\", line 658, in launch_instance\n    app.start()\n  File \"D:\\allsoftware\\Anaconda3\\lib\\site-packages\\ipykernel\\kernelapp.py\", line 477, in start\n    ioloop.IOLoop.instance().start()\n  File \"D:\\allsoftware\\Anaconda3\\lib\\site-packages\\zmq\\eventloop\\ioloop.py\", line 177, in start\n    super(ZMQIOLoop, self).start()\n  File \"D:\\allsoftware\\Anaconda3\\lib\\site-packages\\tornado\\ioloop.py\", line 888, in start\n    handler_func(fd_obj, events)\n  File \"D:\\allsoftware\\Anaconda3\\lib\\site-packages\\tornado\\stack_context.py\", line 277, in null_wrapper\n    return fn(*args, **kwargs)\n  File \"D:\\allsoftware\\Anaconda3\\lib\\site-packages\\zmq\\eventloop\\zmqstream.py\", line 440, in _handle_events\n    self._handle_recv()\n  File \"D:\\allsoftware\\Anaconda3\\lib\\site-packages\\zmq\\eventloop\\zmqstream.py\", line 472, in _handle_recv\n    self._run_callback(callback, msg)\n  File \"D:\\allsoftware\\Anaconda3\\lib\\site-packages\\zmq\\eventloop\\zmqstream.py\", line 414, in _run_callback\n    callback(*args, **kwargs)\n  File \"D:\\allsoftware\\Anaconda3\\lib\\site-packages\\tornado\\stack_context.py\", line 277, in null_wrapper\n    return fn(*args, **kwargs)\n  File \"D:\\allsoftware\\Anaconda3\\lib\\site-packages\\ipykernel\\kernelbase.py\", line 283, in dispatcher\n    return self.dispatch_shell(stream, msg)\n  File \"D:\\allsoftware\\Anaconda3\\lib\\site-packages\\ipykernel\\kernelbase.py\", line 235, in dispatch_shell\n    handler(stream, idents, msg)\n  File \"D:\\allsoftware\\Anaconda3\\lib\\site-packages\\ipykernel\\kernelbase.py\", line 399, in execute_request\n    user_expressions, allow_stdin)\n  File \"D:\\allsoftware\\Anaconda3\\lib\\site-packages\\ipykernel\\ipkernel.py\", line 196, in do_execute\n    res = shell.run_cell(code, store_history=store_history, silent=silent)\n  File \"D:\\allsoftware\\Anaconda3\\lib\\site-packages\\ipykernel\\zmqshell.py\", line 533, in run_cell\n    return super(ZMQInteractiveShell, self).run_cell(*args, **kwargs)\n  File \"D:\\allsoftware\\Anaconda3\\lib\\site-packages\\IPython\\core\\interactiveshell.py\", line 2698, in run_cell\n    interactivity=interactivity, compiler=compiler, result=result)\n  File \"D:\\allsoftware\\Anaconda3\\lib\\site-packages\\IPython\\core\\interactiveshell.py\", line 2802, in run_ast_nodes\n    if self.run_code(code, result):\n  File \"D:\\allsoftware\\Anaconda3\\lib\\site-packages\\IPython\\core\\interactiveshell.py\", line 2862, in run_code\n    exec(code_obj, self.user_global_ns, self.user_ns)\n  File \"<ipython-input-27-13f822d0a011>\", line 22, in <module>\n    output=tf.matmul(input1,input2)\n  File \"D:\\allsoftware\\Anaconda3\\lib\\site-packages\\tensorflow\\python\\ops\\math_ops.py\", line 1976, in matmul\n    a, b, adj_x=adjoint_a, adj_y=adjoint_b, name=name)\n  File \"D:\\allsoftware\\Anaconda3\\lib\\site-packages\\tensorflow\\python\\ops\\gen_math_ops.py\", line 1295, in batch_mat_mul\n    \"BatchMatMul\", x=x, y=y, adj_x=adj_x, adj_y=adj_y, name=name)\n  File \"D:\\allsoftware\\Anaconda3\\lib\\site-packages\\tensorflow\\python\\framework\\op_def_library.py\", line 787, in _apply_op_helper\n    op_def=op_def)\n  File \"D:\\allsoftware\\Anaconda3\\lib\\site-packages\\tensorflow\\python\\framework\\ops.py\", line 3414, in create_op\n    op_def=op_def)\n  File \"D:\\allsoftware\\Anaconda3\\lib\\site-packages\\tensorflow\\python\\framework\\ops.py\", line 1740, in __init__\n    self._traceback = self._graph._extract_stack()  # pylint: disable=protected-access\n\nInvalidArgumentError (see above for traceback): In[0] and In[1] ndims must be >= 2: 1\n\t [[Node: MatMul_9 = BatchMatMul[T=DT_FLOAT, adj_x=false, adj_y=false, _device=\"/job:localhost/replica:0/task:0/device:CPU:0\"](_arg_Placeholder_14_0_0, _arg_Placeholder_15_0_1)]]\n",
     "traceback": [
      "\u001b[1;31m---------------------------------------------------------------------------\u001b[0m",
      "\u001b[1;31mInvalidArgumentError\u001b[0m                      Traceback (most recent call last)",
      "\u001b[1;32mD:\\allsoftware\\Anaconda3\\lib\\site-packages\\tensorflow\\python\\client\\session.py\u001b[0m in \u001b[0;36m_do_call\u001b[1;34m(self, fn, *args)\u001b[0m\n\u001b[0;32m   1321\u001b[0m     \u001b[1;32mtry\u001b[0m\u001b[1;33m:\u001b[0m\u001b[1;33m\u001b[0m\u001b[0m\n\u001b[1;32m-> 1322\u001b[1;33m       \u001b[1;32mreturn\u001b[0m \u001b[0mfn\u001b[0m\u001b[1;33m(\u001b[0m\u001b[1;33m*\u001b[0m\u001b[0margs\u001b[0m\u001b[1;33m)\u001b[0m\u001b[1;33m\u001b[0m\u001b[0m\n\u001b[0m\u001b[0;32m   1323\u001b[0m     \u001b[1;32mexcept\u001b[0m \u001b[0merrors\u001b[0m\u001b[1;33m.\u001b[0m\u001b[0mOpError\u001b[0m \u001b[1;32mas\u001b[0m \u001b[0me\u001b[0m\u001b[1;33m:\u001b[0m\u001b[1;33m\u001b[0m\u001b[0m\n",
      "\u001b[1;32mD:\\allsoftware\\Anaconda3\\lib\\site-packages\\tensorflow\\python\\client\\session.py\u001b[0m in \u001b[0;36m_run_fn\u001b[1;34m(feed_dict, fetch_list, target_list, options, run_metadata)\u001b[0m\n\u001b[0;32m   1306\u001b[0m       return self._call_tf_sessionrun(\n\u001b[1;32m-> 1307\u001b[1;33m           options, feed_dict, fetch_list, target_list, run_metadata)\n\u001b[0m\u001b[0;32m   1308\u001b[0m \u001b[1;33m\u001b[0m\u001b[0m\n",
      "\u001b[1;32mD:\\allsoftware\\Anaconda3\\lib\\site-packages\\tensorflow\\python\\client\\session.py\u001b[0m in \u001b[0;36m_call_tf_sessionrun\u001b[1;34m(self, options, feed_dict, fetch_list, target_list, run_metadata)\u001b[0m\n\u001b[0;32m   1408\u001b[0m           \u001b[0mself\u001b[0m\u001b[1;33m.\u001b[0m\u001b[0m_session\u001b[0m\u001b[1;33m,\u001b[0m \u001b[0moptions\u001b[0m\u001b[1;33m,\u001b[0m \u001b[0mfeed_dict\u001b[0m\u001b[1;33m,\u001b[0m \u001b[0mfetch_list\u001b[0m\u001b[1;33m,\u001b[0m \u001b[0mtarget_list\u001b[0m\u001b[1;33m,\u001b[0m\u001b[1;33m\u001b[0m\u001b[0m\n\u001b[1;32m-> 1409\u001b[1;33m           run_metadata)\n\u001b[0m\u001b[0;32m   1410\u001b[0m     \u001b[1;32melse\u001b[0m\u001b[1;33m:\u001b[0m\u001b[1;33m\u001b[0m\u001b[0m\n",
      "\u001b[1;31mInvalidArgumentError\u001b[0m: In[0] and In[1] ndims must be >= 2: 1\n\t [[Node: MatMul_9 = BatchMatMul[T=DT_FLOAT, adj_x=false, adj_y=false, _device=\"/job:localhost/replica:0/task:0/device:CPU:0\"](_arg_Placeholder_14_0_0, _arg_Placeholder_15_0_1)]]",
      "\nDuring handling of the above exception, another exception occurred:\n",
      "\u001b[1;31mInvalidArgumentError\u001b[0m                      Traceback (most recent call last)",
      "\u001b[1;32m<ipython-input-27-13f822d0a011>\u001b[0m in \u001b[0;36m<module>\u001b[1;34m()\u001b[0m\n\u001b[0;32m     23\u001b[0m \u001b[1;33m\u001b[0m\u001b[0m\n\u001b[0;32m     24\u001b[0m \u001b[1;32mwith\u001b[0m \u001b[0mtf\u001b[0m\u001b[1;33m.\u001b[0m\u001b[0mSession\u001b[0m\u001b[1;33m(\u001b[0m\u001b[1;33m)\u001b[0m \u001b[1;32mas\u001b[0m \u001b[0msession\u001b[0m\u001b[1;33m:\u001b[0m\u001b[1;33m\u001b[0m\u001b[0m\n\u001b[1;32m---> 25\u001b[1;33m     \u001b[0mresult_feed\u001b[0m\u001b[1;33m=\u001b[0m\u001b[0msession\u001b[0m\u001b[1;33m.\u001b[0m\u001b[0mrun\u001b[0m\u001b[1;33m(\u001b[0m\u001b[0moutput\u001b[0m\u001b[1;33m,\u001b[0m\u001b[0mfeed_dict\u001b[0m\u001b[1;33m=\u001b[0m\u001b[1;33m{\u001b[0m\u001b[0minput1\u001b[0m\u001b[1;33m:\u001b[0m\u001b[1;33m[\u001b[0m\u001b[1;36m2.\u001b[0m\u001b[1;33m]\u001b[0m\u001b[1;33m,\u001b[0m\u001b[0minput2\u001b[0m\u001b[1;33m:\u001b[0m\u001b[1;33m[\u001b[0m\u001b[1;36m3.\u001b[0m\u001b[1;33m]\u001b[0m\u001b[1;33m}\u001b[0m\u001b[1;33m)\u001b[0m\u001b[1;33m\u001b[0m\u001b[0m\n\u001b[0m\u001b[0;32m     26\u001b[0m     \u001b[0mprint\u001b[0m\u001b[1;33m(\u001b[0m\u001b[1;34m\"result:\"\u001b[0m\u001b[1;33m,\u001b[0m\u001b[0mresult_feed\u001b[0m\u001b[1;33m)\u001b[0m\u001b[1;33m\u001b[0m\u001b[0m\n",
      "\u001b[1;32mD:\\allsoftware\\Anaconda3\\lib\\site-packages\\tensorflow\\python\\client\\session.py\u001b[0m in \u001b[0;36mrun\u001b[1;34m(self, fetches, feed_dict, options, run_metadata)\u001b[0m\n\u001b[0;32m    898\u001b[0m     \u001b[1;32mtry\u001b[0m\u001b[1;33m:\u001b[0m\u001b[1;33m\u001b[0m\u001b[0m\n\u001b[0;32m    899\u001b[0m       result = self._run(None, fetches, feed_dict, options_ptr,\n\u001b[1;32m--> 900\u001b[1;33m                          run_metadata_ptr)\n\u001b[0m\u001b[0;32m    901\u001b[0m       \u001b[1;32mif\u001b[0m \u001b[0mrun_metadata\u001b[0m\u001b[1;33m:\u001b[0m\u001b[1;33m\u001b[0m\u001b[0m\n\u001b[0;32m    902\u001b[0m         \u001b[0mproto_data\u001b[0m \u001b[1;33m=\u001b[0m \u001b[0mtf_session\u001b[0m\u001b[1;33m.\u001b[0m\u001b[0mTF_GetBuffer\u001b[0m\u001b[1;33m(\u001b[0m\u001b[0mrun_metadata_ptr\u001b[0m\u001b[1;33m)\u001b[0m\u001b[1;33m\u001b[0m\u001b[0m\n",
      "\u001b[1;32mD:\\allsoftware\\Anaconda3\\lib\\site-packages\\tensorflow\\python\\client\\session.py\u001b[0m in \u001b[0;36m_run\u001b[1;34m(self, handle, fetches, feed_dict, options, run_metadata)\u001b[0m\n\u001b[0;32m   1133\u001b[0m     \u001b[1;32mif\u001b[0m \u001b[0mfinal_fetches\u001b[0m \u001b[1;32mor\u001b[0m \u001b[0mfinal_targets\u001b[0m \u001b[1;32mor\u001b[0m \u001b[1;33m(\u001b[0m\u001b[0mhandle\u001b[0m \u001b[1;32mand\u001b[0m \u001b[0mfeed_dict_tensor\u001b[0m\u001b[1;33m)\u001b[0m\u001b[1;33m:\u001b[0m\u001b[1;33m\u001b[0m\u001b[0m\n\u001b[0;32m   1134\u001b[0m       results = self._do_run(handle, final_targets, final_fetches,\n\u001b[1;32m-> 1135\u001b[1;33m                              feed_dict_tensor, options, run_metadata)\n\u001b[0m\u001b[0;32m   1136\u001b[0m     \u001b[1;32melse\u001b[0m\u001b[1;33m:\u001b[0m\u001b[1;33m\u001b[0m\u001b[0m\n\u001b[0;32m   1137\u001b[0m       \u001b[0mresults\u001b[0m \u001b[1;33m=\u001b[0m \u001b[1;33m[\u001b[0m\u001b[1;33m]\u001b[0m\u001b[1;33m\u001b[0m\u001b[0m\n",
      "\u001b[1;32mD:\\allsoftware\\Anaconda3\\lib\\site-packages\\tensorflow\\python\\client\\session.py\u001b[0m in \u001b[0;36m_do_run\u001b[1;34m(self, handle, target_list, fetch_list, feed_dict, options, run_metadata)\u001b[0m\n\u001b[0;32m   1314\u001b[0m     \u001b[1;32mif\u001b[0m \u001b[0mhandle\u001b[0m \u001b[1;32mis\u001b[0m \u001b[1;32mNone\u001b[0m\u001b[1;33m:\u001b[0m\u001b[1;33m\u001b[0m\u001b[0m\n\u001b[0;32m   1315\u001b[0m       return self._do_call(_run_fn, feeds, fetches, targets, options,\n\u001b[1;32m-> 1316\u001b[1;33m                            run_metadata)\n\u001b[0m\u001b[0;32m   1317\u001b[0m     \u001b[1;32melse\u001b[0m\u001b[1;33m:\u001b[0m\u001b[1;33m\u001b[0m\u001b[0m\n\u001b[0;32m   1318\u001b[0m       \u001b[1;32mreturn\u001b[0m \u001b[0mself\u001b[0m\u001b[1;33m.\u001b[0m\u001b[0m_do_call\u001b[0m\u001b[1;33m(\u001b[0m\u001b[0m_prun_fn\u001b[0m\u001b[1;33m,\u001b[0m \u001b[0mhandle\u001b[0m\u001b[1;33m,\u001b[0m \u001b[0mfeeds\u001b[0m\u001b[1;33m,\u001b[0m \u001b[0mfetches\u001b[0m\u001b[1;33m)\u001b[0m\u001b[1;33m\u001b[0m\u001b[0m\n",
      "\u001b[1;32mD:\\allsoftware\\Anaconda3\\lib\\site-packages\\tensorflow\\python\\client\\session.py\u001b[0m in \u001b[0;36m_do_call\u001b[1;34m(self, fn, *args)\u001b[0m\n\u001b[0;32m   1333\u001b[0m         \u001b[1;32mexcept\u001b[0m \u001b[0mKeyError\u001b[0m\u001b[1;33m:\u001b[0m\u001b[1;33m\u001b[0m\u001b[0m\n\u001b[0;32m   1334\u001b[0m           \u001b[1;32mpass\u001b[0m\u001b[1;33m\u001b[0m\u001b[0m\n\u001b[1;32m-> 1335\u001b[1;33m       \u001b[1;32mraise\u001b[0m \u001b[0mtype\u001b[0m\u001b[1;33m(\u001b[0m\u001b[0me\u001b[0m\u001b[1;33m)\u001b[0m\u001b[1;33m(\u001b[0m\u001b[0mnode_def\u001b[0m\u001b[1;33m,\u001b[0m \u001b[0mop\u001b[0m\u001b[1;33m,\u001b[0m \u001b[0mmessage\u001b[0m\u001b[1;33m)\u001b[0m\u001b[1;33m\u001b[0m\u001b[0m\n\u001b[0m\u001b[0;32m   1336\u001b[0m \u001b[1;33m\u001b[0m\u001b[0m\n\u001b[0;32m   1337\u001b[0m   \u001b[1;32mdef\u001b[0m \u001b[0m_extend_graph\u001b[0m\u001b[1;33m(\u001b[0m\u001b[0mself\u001b[0m\u001b[1;33m)\u001b[0m\u001b[1;33m:\u001b[0m\u001b[1;33m\u001b[0m\u001b[0m\n",
      "\u001b[1;31mInvalidArgumentError\u001b[0m: In[0] and In[1] ndims must be >= 2: 1\n\t [[Node: MatMul_9 = BatchMatMul[T=DT_FLOAT, adj_x=false, adj_y=false, _device=\"/job:localhost/replica:0/task:0/device:CPU:0\"](_arg_Placeholder_14_0_0, _arg_Placeholder_15_0_1)]]\n\nCaused by op 'MatMul_9', defined at:\n  File \"D:\\allsoftware\\Anaconda3\\lib\\runpy.py\", line 193, in _run_module_as_main\n    \"__main__\", mod_spec)\n  File \"D:\\allsoftware\\Anaconda3\\lib\\runpy.py\", line 85, in _run_code\n    exec(code, run_globals)\n  File \"D:\\allsoftware\\Anaconda3\\lib\\site-packages\\ipykernel_launcher.py\", line 16, in <module>\n    app.launch_new_instance()\n  File \"D:\\allsoftware\\Anaconda3\\lib\\site-packages\\traitlets\\config\\application.py\", line 658, in launch_instance\n    app.start()\n  File \"D:\\allsoftware\\Anaconda3\\lib\\site-packages\\ipykernel\\kernelapp.py\", line 477, in start\n    ioloop.IOLoop.instance().start()\n  File \"D:\\allsoftware\\Anaconda3\\lib\\site-packages\\zmq\\eventloop\\ioloop.py\", line 177, in start\n    super(ZMQIOLoop, self).start()\n  File \"D:\\allsoftware\\Anaconda3\\lib\\site-packages\\tornado\\ioloop.py\", line 888, in start\n    handler_func(fd_obj, events)\n  File \"D:\\allsoftware\\Anaconda3\\lib\\site-packages\\tornado\\stack_context.py\", line 277, in null_wrapper\n    return fn(*args, **kwargs)\n  File \"D:\\allsoftware\\Anaconda3\\lib\\site-packages\\zmq\\eventloop\\zmqstream.py\", line 440, in _handle_events\n    self._handle_recv()\n  File \"D:\\allsoftware\\Anaconda3\\lib\\site-packages\\zmq\\eventloop\\zmqstream.py\", line 472, in _handle_recv\n    self._run_callback(callback, msg)\n  File \"D:\\allsoftware\\Anaconda3\\lib\\site-packages\\zmq\\eventloop\\zmqstream.py\", line 414, in _run_callback\n    callback(*args, **kwargs)\n  File \"D:\\allsoftware\\Anaconda3\\lib\\site-packages\\tornado\\stack_context.py\", line 277, in null_wrapper\n    return fn(*args, **kwargs)\n  File \"D:\\allsoftware\\Anaconda3\\lib\\site-packages\\ipykernel\\kernelbase.py\", line 283, in dispatcher\n    return self.dispatch_shell(stream, msg)\n  File \"D:\\allsoftware\\Anaconda3\\lib\\site-packages\\ipykernel\\kernelbase.py\", line 235, in dispatch_shell\n    handler(stream, idents, msg)\n  File \"D:\\allsoftware\\Anaconda3\\lib\\site-packages\\ipykernel\\kernelbase.py\", line 399, in execute_request\n    user_expressions, allow_stdin)\n  File \"D:\\allsoftware\\Anaconda3\\lib\\site-packages\\ipykernel\\ipkernel.py\", line 196, in do_execute\n    res = shell.run_cell(code, store_history=store_history, silent=silent)\n  File \"D:\\allsoftware\\Anaconda3\\lib\\site-packages\\ipykernel\\zmqshell.py\", line 533, in run_cell\n    return super(ZMQInteractiveShell, self).run_cell(*args, **kwargs)\n  File \"D:\\allsoftware\\Anaconda3\\lib\\site-packages\\IPython\\core\\interactiveshell.py\", line 2698, in run_cell\n    interactivity=interactivity, compiler=compiler, result=result)\n  File \"D:\\allsoftware\\Anaconda3\\lib\\site-packages\\IPython\\core\\interactiveshell.py\", line 2802, in run_ast_nodes\n    if self.run_code(code, result):\n  File \"D:\\allsoftware\\Anaconda3\\lib\\site-packages\\IPython\\core\\interactiveshell.py\", line 2862, in run_code\n    exec(code_obj, self.user_global_ns, self.user_ns)\n  File \"<ipython-input-27-13f822d0a011>\", line 22, in <module>\n    output=tf.matmul(input1,input2)\n  File \"D:\\allsoftware\\Anaconda3\\lib\\site-packages\\tensorflow\\python\\ops\\math_ops.py\", line 1976, in matmul\n    a, b, adj_x=adjoint_a, adj_y=adjoint_b, name=name)\n  File \"D:\\allsoftware\\Anaconda3\\lib\\site-packages\\tensorflow\\python\\ops\\gen_math_ops.py\", line 1295, in batch_mat_mul\n    \"BatchMatMul\", x=x, y=y, adj_x=adj_x, adj_y=adj_y, name=name)\n  File \"D:\\allsoftware\\Anaconda3\\lib\\site-packages\\tensorflow\\python\\framework\\op_def_library.py\", line 787, in _apply_op_helper\n    op_def=op_def)\n  File \"D:\\allsoftware\\Anaconda3\\lib\\site-packages\\tensorflow\\python\\framework\\ops.py\", line 3414, in create_op\n    op_def=op_def)\n  File \"D:\\allsoftware\\Anaconda3\\lib\\site-packages\\tensorflow\\python\\framework\\ops.py\", line 1740, in __init__\n    self._traceback = self._graph._extract_stack()  # pylint: disable=protected-access\n\nInvalidArgumentError (see above for traceback): In[0] and In[1] ndims must be >= 2: 1\n\t [[Node: MatMul_9 = BatchMatMul[T=DT_FLOAT, adj_x=false, adj_y=false, _device=\"/job:localhost/replica:0/task:0/device:CPU:0\"](_arg_Placeholder_14_0_0, _arg_Placeholder_15_0_1)]]\n"
     ],
     "output_type": "error"
    }
   ],
   "source": [
    "from __future__ import print_function,division\n",
    "import tensorflow as tf\n",
    "\n",
    "#fetch example\n",
    "print(\"#fetch example\")\n",
    "a=tf.constant([1.,2.,3.],name=\"a\")\n",
    "b=tf.constant([4.,5.,6.],name=\"b\")\n",
    "c=tf.constant([0.,4.,2.],name=\"c\")\n",
    "add=a+b\n",
    "mul=add*c\n",
    "\n",
    "with tf.Session() as sess:\n",
    "    result=sess.run([a,b,c,add,mul])\n",
    "    print(\"after run:\\n\",result)\n",
    "\n",
    "print(\"\\n\\n\")\n",
    "\n",
    "#feed example\n",
    "print(\"feed example\")\n",
    "input1=tf.placeholder(tf.float32)\n",
    "input2=tf.placeholder(tf.float32)\n",
    "output=tf.matmul(input1,input2)\n",
    "\n",
    "with tf.Session() as session:\n",
    "    result_feed=session.run(output,feed_dict={input1:[2.],input2:[3.]})\n",
    "    print(\"result:\",result_feed)"
   ]
  },
  {
   "cell_type": "code",
   "execution_count": null,
   "metadata": {},
   "outputs": [],
   "source": []
  }
 ],
 "metadata": {
  "kernelspec": {
   "display_name": "Python 2",
   "language": "python",
   "name": "python2"
  },
  "language_info": {
   "codemirror_mode": {
    "name": "ipython",
    "version": 2
   },
   "file_extension": ".py",
   "mimetype": "text/x-python",
   "name": "python",
   "nbconvert_exporter": "python",
   "pygments_lexer": "ipython2",
   "version": "2.7.6"
  }
 },
 "nbformat": 4,
 "nbformat_minor": 0
}
