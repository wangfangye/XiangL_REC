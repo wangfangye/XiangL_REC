{
 "cells": [
  {
   "cell_type": "code",
   "execution_count": null,
   "metadata": {
    "collapsed": true
   },
   "outputs": [],
   "source": [
    "import tensorflow as tf "
   ]
  },
  {
   "cell_type": "code",
   "execution_count": 2,
   "metadata": {},
   "outputs": [
    {
     "name": "stdout",
     "output_type": "stream",
     "text": [
      "created log_dir path\n"
     ]
    },
    {
     "name": "stdout",
     "output_type": "stream",
     "text": [
      "3\n0.3\n1.1\n1.2\n"
     ]
    }
   ],
   "source": [
    "import tensorflow as tf\n",
    "config  = tf.ConfigProto()\n",
    "config.gpu_options.allow_growth = True\n",
    "sess = tf.Session(config=config)\n",
    "import os\n",
    "import shutil\n",
    "\n",
    "log_dir = 'summary/graph/'\n",
    "if os.path.exists(log_dir):   # 删掉以前的summary，以免重合\n",
    "    shutil.rmtree(log_dir)\n",
    "os.makedirs(log_dir)\n",
    "print ('created log_dir path')\n",
    "\n",
    "q = tf.FIFOQueue(3,\"float\")\n",
    "init = q.enqueue_many(([0.1,0.2,0.3],))\n",
    "x = q.dequeue()\n",
    "y = x + 1 \n",
    "q_inc = q.enqueue([y])\n",
    "writer = tf.summary.FileWriter(log_dir+'add_example', sess.graph)\n",
    "\n",
    "with tf.Session() as sess:\n",
    "    sess.run(init)\n",
    "    quelen = sess.run(q.size())\n",
    "    print(quelen)\n",
    "    for i in range(2):\n",
    "        sess.run(q_inc)\n",
    "    quelen = sess.run(q.size())\n",
    "    for i in range(quelen):\n",
    "        print(sess.run(q.dequeue()))"
   ]
  },
  {
   "cell_type": "code",
   "execution_count": null,
   "metadata": {},
   "outputs": [
    {
     "name": "stdout",
     "output_type": "stream",
     "text": [
      "q的size： 10\n"
     ]
    }
   ],
   "source": [
    "p = tf.RandomShuffleQueue(capacity=10, min_after_dequeue=2, dtypes=\"float\")\n",
    "sess = tf.Session()\n",
    "# for i in range(0, sess.run(q.size())): # 8 次出队\n",
    "#     print(sess.run(q.dequeue()))\n",
    "for i in range(0, 10): #10 入队\n",
    "    sess.run(p.enqueue(i))\n",
    "print(\"q的size：\",sess.run(p.size()))\n",
    "# for i in range(0, sess.run(p.size())): # 8 次出队\n",
    "#     print(sess.run(q.dequeue()))\n",
    "\n",
    "for i in range(0, 8): # 8 次出队\n",
    "    print(sess.run(p.dequeue()))"
   ]
  },
  {
   "cell_type": "code",
   "execution_count": null,
   "metadata": {},
   "outputs": [],
   "source": [
    "p = tf.RandomShuffleQueue(capacity=10, min_after_dequeue=2, dtypes=\"float\")\n",
    "sess = tf.Session()\n",
    "# for i in range(0, sess.run(q.size())): # 8 次出队\n",
    "#     print(sess.run(q.dequeue()))\n",
    "for i in range(0, 10): #10 入队\n",
    "    sess.run(p.enqueue(i))\n",
    "print(\"q的size：\",sess.run(p.size()))"
   ]
  }
 ],
 "metadata": {
  "kernelspec": {
   "display_name": "Python 2",
   "language": "python",
   "name": "python2"
  },
  "language_info": {
   "codemirror_mode": {
    "name": "ipython",
    "version": 2
   },
   "file_extension": ".py",
   "mimetype": "text/x-python",
   "name": "python",
   "nbconvert_exporter": "python",
   "pygments_lexer": "ipython2",
   "version": "2.7.6"
  }
 },
 "nbformat": 4,
 "nbformat_minor": 0
}
