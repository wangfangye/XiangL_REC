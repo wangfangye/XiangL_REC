{
 "cells": [
  {
   "cell_type": "code",
   "execution_count": 1,
   "metadata": {
    "collapsed": true
   },
   "outputs": [],
   "source": [
    "import numpy as np\n",
    "import  tensorflow as tf\n"
   ]
  },
  {
   "cell_type": "code",
   "execution_count": 2,
   "metadata": {},
   "outputs": [
    {
     "name": "stdout",
     "output_type": "stream",
     "text": [
      "0.3\n1.1\n1.2\n"
     ]
    }
   ],
   "source": [
    "q = tf.FIFOQueue(3,\"float\")\n",
    "init = q.enqueue_many(([0.1,0.2,0.3],))\n",
    "\n",
    "x = q.dequeue()\n",
    "y = x + 1 \n",
    "q_inc = q.enqueue([y])\n",
    "\n",
    "with tf.Session() as sess:\n",
    "    sess.run(init)\n",
    "    quelen = sess.run(q.size())\n",
    "    for i in range(2):\n",
    "        sess.run(q_inc)\n",
    "    quelen = sess.run(q.size())\n",
    "    for i in range(quelen):\n",
    "        print(sess.run(q.dequeue()))"
   ]
  },
  {
   "cell_type": "code",
   "execution_count": 3,
   "metadata": {},
   "outputs": [
    {
     "name": "stdout",
     "output_type": "stream",
     "text": [
      "1.0\n9.0\n3.0\n7.0\n4.0\n6.0\n8.0\n0.0\n"
     ]
    }
   ],
   "source": [
    "q = tf.RandomShuffleQueue(capacity=10, min_after_dequeue=2, dtypes=\"float\")\n",
    "sess = tf.Session()\n",
    "for i in range(10):\n",
    "    sess.run(q.enqueue(i))\n",
    "quelen = sess.run(q.size())\n",
    "\n",
    "for i in range(0,8):\n",
    "    print(sess.run(q.dequeue()))\n",
    "    \n",
    "#设置会话在运行时的等待时间来消除阻断\n",
    "# run_options = tf.RunOptions(timeout_in_ms = 10000) # 等待 10 秒\n",
    "# try:   \n",
    "#     sess.run(q.dequeue(), options=run_options)\n",
    "# except tf.errors.DeadlineExceededError:\n",
    "#     print('out of range')"
   ]
  },
  {
   "cell_type": "markdown",
   "metadata": {},
   "source": [
    "#队列管理器"
   ]
  },
  {
   "cell_type": "code",
   "execution_count": null,
   "metadata": {
    "collapsed": true
   },
   "outputs": [],
   "source": [
    "q = tf.FIFOQueue(1000, \"float\")\n",
    "counter = tf.Variable(0.0) # 计数器\n",
    "increment_op = tf.assign_add(counter, tf.constant(1.0)) # 操作：给计数器加 1\n",
    "enqueue_op = q.enqueue(counter) # 操作：计数器值加入队列\n",
    "qr = tf.train.QueueRunner(q, enqueue_ops=[increment_op, enqueue_op] * 1)\n",
    "#主线程\n",
    "with tf.Session() as sess:\n",
    "    sess.run(tf.global_variables_initializer())\n",
    "    eneque_threads = qr.create_threads(sess,start=True)\n",
    "    for i in range(10):\n",
    "        print(sess.run(q.dequeue()))"
   ]
  },
  {
   "cell_type": "markdown",
   "metadata": {},
   "source": [
    "#线程与协调器\n"
   ]
  },
  {
   "cell_type": "code",
   "execution_count": 16,
   "metadata": {},
   "outputs": [
    {
     "name": "stdout",
     "output_type": "stream",
     "text": [
      "3.0\n14.0\n22.0\n36.0\n46.0\n56.0\n69.0\n78.0\n91.0\n105.0\n"
     ]
    }
   ],
   "source": [
    "sess = tf.Session()\n",
    "sess.run(tf.global_variables_initializer())\n",
    "# Coordinator：协调器，协调线程间的关系可以视为一种信号量，用来做同步\n",
    "coord = tf.train.Coordinator()\n",
    "# 启动入队线程，协调器是线程的参数\n",
    "enqueue_threads = qr.create_threads(sess, coord = coord,start=True)\n",
    "# 主线程\n",
    "for i in range(0, 10):\n",
    "    print(sess.run(q.dequeue()))\n",
    "coord.request_stop()# 通知其他线程关闭\n",
    "coord.join(enqueue_threads) # join 操作等待其他线程结束，其他所有\n",
    "# 线程关闭之后，这一函数才能返回\n",
    "# coord.request_stop()\n",
    "# # 主线程\n",
    "# for i in range(0, 10):\n",
    "#     try:\n",
    "#         print(sess.run(q.dequeue()))\n",
    "#     except tf.errors.OutOfRangeError:\n",
    "#         break\n",
    "# coord.join(enqueue_threads)"
   ]
  },
  {
   "cell_type": "markdown",
   "metadata": {},
   "source": [
    "#4.10 加载数据\n",
    "预加载数据（preloaded data）：在 TensorFlow 图中定义常量或变量来保存所有数据。\n",
    "● 填充数据（feeding）：Python 产生数据，再把数据填充后端。\n",
    "● 从文件读取数据（reading from file）：从文件中直接读取，让队列管理器从文件中读取\n",
    "数据。"
   ]
  },
  {
   "cell_type": "code",
   "execution_count": 20,
   "metadata": {},
   "outputs": [
    {
     "name": "stdout",
     "output_type": "stream",
     "text": [
      "[6 3 5]\n"
     ]
    }
   ],
   "source": [
    "import tensorflow as tf\n",
    "# 设计图\n",
    "a1 = tf.placeholder(tf.int16)\n",
    "a2 = tf.placeholder(tf.int16)\n",
    "b = tf.add(a1, a2)\n",
    "# 用 Python 产生数据\n",
    "li1 = [2, 3, 4]\n",
    "li2 = [4, 0, 1]\n",
    "# 打开一个会话，将数据填充给后端\n",
    "with tf.Session() as sess:\n",
    "    print (sess.run(b, feed_dict={a1: li1, a2: li2}))"
   ]
  },
  {
   "cell_type": "code",
   "execution_count": 22,
   "metadata": {},
   "outputs": [
    {
     "ename": "NameError",
     "evalue": "name 'mnist' is not defined",
     "traceback": [
      "\u001b[1;31m---------------------------------------------------------------------------\u001b[0m",
      "\u001b[1;31mNameError\u001b[0m                                 Traceback (most recent call last)",
      "\u001b[1;32m<ipython-input-22-55072c5c8d18>\u001b[0m in \u001b[0;36m<module>\u001b[1;34m()\u001b[0m\n\u001b[1;32m----> 1\u001b[1;33m data_sets = mnist.read_data_sets(FLAGS.directory,dtype=tf.uint8, # 注意，这里的编码是 uint8\n\u001b[0m\u001b[0;32m      2\u001b[0m reshape=False,validation_size=FLAGS.validation_size)\n",
      "\u001b[1;31mNameError\u001b[0m: name 'mnist' is not defined"
     ],
     "output_type": "error"
    }
   ],
   "source": [
    ""
   ]
  },
  {
   "cell_type": "code",
   "execution_count": null,
   "metadata": {},
   "outputs": [],
   "source": []
  }
 ],
 "metadata": {
  "kernelspec": {
   "display_name": "Python 2",
   "language": "python",
   "name": "python2"
  },
  "language_info": {
   "codemirror_mode": {
    "name": "ipython",
    "version": 2
   },
   "file_extension": ".py",
   "mimetype": "text/x-python",
   "name": "python",
   "nbconvert_exporter": "python",
   "pygments_lexer": "ipython2",
   "version": "2.7.6"
  }
 },
 "nbformat": 4,
 "nbformat_minor": 0
}
