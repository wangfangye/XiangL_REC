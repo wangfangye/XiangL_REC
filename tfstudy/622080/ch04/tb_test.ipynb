{
 "cells": [
  {
   "cell_type": "code",
   "execution_count": 1,
   "metadata": {
    "collapsed": true
   },
   "outputs": [],
   "source": [
    "import tensorflow as tf\n",
    "config  = tf.ConfigProto()\n",
    "config.gpu_options.allow_growth = True\n",
    "sess = tf.Session(config=config)\n",
    "import os\n",
    "import shutil"
   ]
  },
  {
   "cell_type": "code",
   "execution_count": 8,
   "metadata": {},
   "outputs": [
    {
     "name": "stdout",
     "output_type": "stream",
     "text": [
      "created log_dir path\n"
     ]
    }
   ],
   "source": [
    "log_dir = 'summary/graph/'\n",
    "if os.path.exists(log_dir):   # 删掉以前的summary，以免重合\n",
    "    shutil.rmtree(log_dir)\n",
    "os.makedirs(log_dir)\n",
    "print ('created log_dir path')"
   ]
  },
  {
   "cell_type": "code",
   "execution_count": 10,
   "metadata": {},
   "outputs": [],
   "source": [
    "with tf.name_scope('add_example'):\n",
    "    a = tf.Variable(tf.truncated_normal([100,1], mean=0.5, stddev=0.5), name='var_a')\n",
    "    tf.summary.histogram('a_hist', a)\n",
    "    b = tf.Variable(tf.truncated_normal([100,1], mean=-0.5, stddev=1.0), name='var_b')\n",
    "    tf.summary.histogram('b_hist', b)\n",
    "    increase_b = tf.assign(b, b + 0.2)\n",
    "    c = tf.add(a, b)\n",
    "    tf.summary.histogram('c_hist', c)\n",
    "    c_mean = tf.reduce_mean(c)\n",
    "    tf.summary.scalar('c_mean', c_mean)\n",
    "merged = tf.summary.merge_all()\n",
    "writer = tf.summary.FileWriter(log_dir+'add_example', sess.graph)\n",
    "\n",
    "sess.run(tf.global_variables_initializer())\n",
    "for step in range(500):\n",
    "    sess.run([merged, increase_b])    # 每步改变一次 b 的值\n",
    "    summary = sess.run(merged)\n",
    "    writer.add_summary(summary, step)\n",
    "writer.close()"
   ]
  },
  {
   "cell_type": "code",
   "execution_count": 12,
   "metadata": {},
   "outputs": [
    {
     "name": "stdout",
     "output_type": "stream",
     "text": [
      "[1.3175231 2.6727004 3.8263092]\n"
     ]
    }
   ],
   "source": [
    "import tensorflow as tf\n",
    "a = tf.constant([1.0,2.0,3.0],name='input1')\n",
    "b = tf.Variable(tf.random_uniform([3]),name='input2')\n",
    "add = tf.add_n([a,b],name='addOP')\n",
    "with tf.Session() as sess:\n",
    "    sess.run(tf.global_variables_initializer())\n",
    "    writer = tf.summary.FileWriter(\"D://TensorBoard//test\",sess.graph)\n",
    "    print(sess.run(add))\n",
    "writer.close()"
   ]
  },
  {
   "cell_type": "code",
   "execution_count": 8,
   "metadata": {},
   "outputs": [
    {
     "name": "stdout",
     "output_type": "stream",
     "text": [
      "<class 'range'>\n"
     ]
    }
   ],
   "source": [
    "import numpy as np\n",
    "a = range(10)\n",
    "print(type(a))"
   ]
  },
  {
   "cell_type": "code",
   "execution_count": 9,
   "metadata": {},
   "outputs": [
    {
     "name": "stdout",
     "output_type": "stream",
     "text": [
      "<class 'numpy.ndarray'>\n"
     ]
    }
   ],
   "source": [
    "b = np.arange(10)\n",
    "print(type(b))"
   ]
  },
  {
   "cell_type": "code",
   "execution_count": 19,
   "metadata": {},
   "outputs": [
    {
     "name": "stdout",
     "output_type": "stream",
     "text": [
      "第一个数组：\n[[1 2]\n [3 4]]\n\n\n第二个数组：\n[[5 6]\n [7 8]]\n\n\n沿轴 0 堆叠两个数组：\n[[[1 2]\n  [5 6]]\n\n [[3 4]\n  [7 8]]]\n(2, 2, 2)\n\n\n沿轴 1 堆叠两个数组：\n[[[1 2]\n  [5 6]]\n\n [[3 4]\n  [7 8]]]\n"
     ]
    },
    {
     "data": {
      "text/plain": [
       "array([[[1, 2],\n        [5, 6]],\n\n       [[3, 4],\n        [7, 8]]])"
      ]
     },
     "execution_count": 19,
     "metadata": {},
     "output_type": "execute_result"
    }
   ],
   "source": [
    "import numpy as np\n",
    "a = np.array([[1,2],[3,4]])\n",
    "\n",
    "print ('第一个数组：')\n",
    "print (a)\n",
    "print ('\\n')\n",
    "b = np.array([[5,6],[7,8]])\n",
    "\n",
    "print ('第二个数组：')\n",
    "print (b)\n",
    "print ('\\n'  )\n",
    "\n",
    "print ('沿轴 0 堆叠两个数组：')\n",
    "c = np.stack((a,b),1)\n",
    "print (c)\n",
    "print(c.shape)\n",
    "print ('\\n'  )\n",
    "\n",
    "print ('沿轴 1 堆叠两个数组：')\n",
    "print (np.stack((a,b),1))\n",
    "c"
   ]
  },
  {
   "cell_type": "code",
   "execution_count": 20,
   "metadata": {},
   "outputs": [
    {
     "data": {
      "text/plain": [
       "array([[ 0,  1,  2,  3,  4,  5],\n       [ 6,  7,  8,  9, 10, 11],\n       [12, 13, 14, 15, 16, 17],\n       [18, 19, 20, 21, 22, 23]])"
      ]
     },
     "execution_count": 20,
     "metadata": {},
     "output_type": "execute_result"
    }
   ],
   "source": [
    "a = np.arange(24).reshape(4,6)\n",
    "aa"
   ]
  },
  {
   "cell_type": "code",
   "execution_count": 23,
   "metadata": {},
   "outputs": [
    {
     "data": {
      "text/plain": [
       "[array([[ 0,  1,  2],\n        [ 6,  7,  8],\n        [12, 13, 14],\n        [18, 19, 20]]), array([[ 3,  4,  5],\n        [ 9, 10, 11],\n        [15, 16, 17],\n        [21, 22, 23]])]"
      ]
     },
     "execution_count": 23,
     "metadata": {},
     "output_type": "execute_result"
    }
   ],
   "source": [
    "np.hsplit(a,2)"
   ]
  },
  {
   "cell_type": "code",
   "execution_count": null,
   "metadata": {},
   "outputs": [],
   "source": []
  }
 ],
 "metadata": {
  "kernelspec": {
   "display_name": "Python 2",
   "language": "python",
   "name": "python2"
  },
  "language_info": {
   "codemirror_mode": {
    "name": "ipython",
    "version": 2
   },
   "file_extension": ".py",
   "mimetype": "text/x-python",
   "name": "python",
   "nbconvert_exporter": "python",
   "pygments_lexer": "ipython2",
   "version": "2.7.6"
  }
 },
 "nbformat": 4,
 "nbformat_minor": 0
}
