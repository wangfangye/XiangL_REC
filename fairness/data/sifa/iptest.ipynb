{
 "cells": [
  {
   "cell_type": "code",
   "execution_count": 8,
   "metadata": {
    "collapsed": true
   },
   "outputs": [],
   "source": [
    "import numpy as np\n",
    "import pandas as pd\n"
   ]
  },
  {
   "cell_type": "code",
   "execution_count": 10,
   "metadata": {
    "collapsed": false
   },
   "outputs": [],
   "source": [
    "import data.sifa.crime as CRIME"
   ]
  },
  {
   "cell_type": "code",
   "execution_count": 14,
   "metadata": {},
   "outputs": [
    {
     "data": {
      "text/plain": [
       "dict"
      ]
     },
     "execution_count": 14,
     "metadata": {},
     "output_type": "execute_result"
    }
   ],
   "source": [
    "type(CRIME.edu)"
   ]
  },
  {
   "cell_type": "code",
   "execution_count": 16,
   "metadata": {},
   "outputs": [
    {
     "data": {
      "text/plain": [
       "{0: '研究生及以上',\n 1: '大学本科',\n 2: '大学专科和专科学校',\n 3: '中专或中计',\n 4: '技工学校',\n 5: '高中',\n 6: '初中',\n 7: '小学',\n 8: '文盲或半文盲'}"
      ]
     },
     "execution_count": 16,
     "metadata": {},
     "output_type": "execute_result"
    }
   ],
   "source": [
    "CRIME.edu"
   ]
  },
  {
   "cell_type": "code",
   "execution_count": 17,
   "metadata": {},
   "outputs": [
    {
     "data": {
      "text/plain": [
       "{'研究生及以上': 0,\n '大学本科': 1,\n '大学专科和专科学校': 2,\n '中专或中计': 3,\n '技工学校': 4,\n '高中': 5,\n '初中': 6,\n '小学': 7,\n '文盲或半文盲': 8}"
      ]
     },
     "execution_count": 17,
     "metadata": {},
     "output_type": "execute_result"
    }
   ],
   "source": [
    "CRIME.eduname"
   ]
  },
  {
   "cell_type": "code",
   "execution_count": 27,
   "metadata": {},
   "outputs": [
    {
     "data": {
      "text/plain": [
       "[[0, '研究生及以上'],\n [1, '大学本科'],\n [2, '大学专科和专科学校'],\n [3, '中专或中计'],\n [4, '技工学校'],\n [5, '高中'],\n [6, '初中'],\n [7, '小学'],\n [8, '文盲或半文盲']]"
      ]
     },
     "execution_count": 27,
     "metadata": {},
     "output_type": "execute_result"
    }
   ],
   "source": [
    "data = []\n",
    "for k,v in (CRIME.edu.items()):\n",
    "    data.append([k,v])\n",
    "data\n",
    "    # print(k,v)"
   ]
  },
  {
   "cell_type": "code",
   "execution_count": 28,
   "metadata": {},
   "outputs": [],
   "source": [
    "edu_df = pd.DataFrame(data,columns=['num_edu','edu_level'])"
   ]
  },
  {
   "cell_type": "code",
   "execution_count": 29,
   "metadata": {},
   "outputs": [
    {
     "name": "stdout",
     "output_type": "stream",
     "text": [
      "   num_edu  edu_level\n0        0     研究生及以上\n1        1       大学本科\n2        2  大学专科和专科学校\n3        3      中专或中计\n4        4       技工学校\n5        5         高中\n6        6         初中\n7        7         小学\n8        8     文盲或半文盲\n"
     ]
    }
   ],
   "source": [
    "print(edu_df)"
   ]
  },
  {
   "cell_type": "code",
   "execution_count": 31,
   "metadata": {},
   "outputs": [],
   "source": [
    "data = []\n",
    "for k,v in (CRIME.accu.items()):\n",
    "    data.append([k,v])\n",
    "accu_df = pd.DataFrame(data,columns=['num_accu','accusation'])"
   ]
  },
  {
   "cell_type": "code",
   "execution_count": 37,
   "metadata": {},
   "outputs": [],
   "source": [
    "accu_df.to_csv(\"accu_df\")"
   ]
  },
  {
   "cell_type": "code",
   "execution_count": 38,
   "metadata": {},
   "outputs": [],
   "source": [
    "edu_df.to_csv(\"edu_df\")"
   ]
  },
  {
   "cell_type": "code",
   "execution_count": 91,
   "metadata": {},
   "outputs": [],
   "source": [
    "allFact, allCrimalInfo, accu_label = CRIME.getData(r'D:\\code\\pycharm\\fairness\\data\\sifa\\crimeData.json')"
   ]
  },
  {
   "cell_type": "code",
   "execution_count": 69,
   "metadata": {},
   "outputs": [
    {
     "data": {
      "text/plain": [
       "list"
      ]
     },
     "execution_count": 69,
     "metadata": {},
     "output_type": "execute_result"
    }
   ],
   "source": [
    "type(accu_label)"
   ]
  },
  {
   "cell_type": "code",
   "execution_count": 70,
   "metadata": {},
   "outputs": [
    {
     "data": {
      "text/plain": [
       "[13, 170, 152, 189, 189]"
      ]
     },
     "execution_count": 70,
     "metadata": {},
     "output_type": "execute_result"
    }
   ],
   "source": [
    "accu_label[:5]"
   ]
  },
  {
   "cell_type": "code",
   "execution_count": 71,
   "metadata": {},
   "outputs": [],
   "source": [
    "allInfo = list(zip(allFact,allCrimalInfo,accu_label))"
   ]
  },
  {
   "cell_type": "code",
   "execution_count": 72,
   "metadata": {},
   "outputs": [
    {
     "data": {
      "text/plain": [
       "list"
      ]
     },
     "execution_count": 72,
     "metadata": {},
     "output_type": "execute_result"
    }
   ],
   "source": [
    "type(allInfo)"
   ]
  },
  {
   "cell_type": "code",
   "execution_count": 74,
   "metadata": {},
   "outputs": [
    {
     "data": {
      "text/plain": [
       "19630"
      ]
     },
     "execution_count": 74,
     "metadata": {},
     "output_type": "execute_result"
    }
   ],
   "source": [
    "len(allInfo)"
   ]
  },
  {
   "cell_type": "code",
   "execution_count": 84,
   "metadata": {},
   "outputs": [
    {
     "data": {
      "text/plain": [
       "str"
      ]
     },
     "execution_count": 84,
     "metadata": {},
     "output_type": "execute_result"
    }
   ],
   "source": [
    "type(allFact[0])\n",
    "# rr.append(1)\n",
    "# rr.append()"
   ]
  },
  {
   "cell_type": "code",
   "execution_count": 86,
   "metadata": {},
   "outputs": [],
   "source": [
    "count = 0\n",
    "all_df=[]\n",
    "for info_one in allInfo:\n",
    "    info=info_one[1]\n",
    "    info.append(info_one[0])\n",
    "    info.append(info_one[2])\n",
    "    all_df.append(info)\n"
   ]
  },
  {
   "cell_type": "code",
   "execution_count": 93,
   "metadata": {},
   "outputs": [
    {
     "data": {
      "text/plain": [
       "[0,\n 6,\n 0,\n 0,\n '2018年5月8日23时25分许，被告人李某某酒后无证驾驶无号牌新大洲125型摩托车沿厢城街由东向西行驶至厢城街与文体路交叉路口时，与行人刘某某、高某某相撞，致使刘某某、高某某受伤。经鉴定，被告人李某某血液中检出酒精成分，其含量测定为153.17mg/100ml。',\n 152]"
      ]
     },
     "execution_count": 93,
     "metadata": {},
     "output_type": "execute_result"
    }
   ],
   "source": [
    "all_df[2]"
   ]
  },
  {
   "cell_type": "code",
   "execution_count": 89,
   "metadata": {},
   "outputs": [],
   "source": [
    "columns=['age','edu_level','race','gender','fact','labels']"
   ]
  },
  {
   "cell_type": "code",
   "execution_count": 96,
   "metadata": {},
   "outputs": [
    {
     "data": {
      "text/plain": [
       "152"
      ]
     },
     "execution_count": 96,
     "metadata": {},
     "output_type": "execute_result"
    }
   ],
   "source": [
    "accu_label[2]"
   ]
  },
  {
   "cell_type": "code",
   "execution_count": 98,
   "metadata": {},
   "outputs": [],
   "source": [
    "allCrime_DF = pd.DataFrame(all_df,columns=columns)"
   ]
  },
  {
   "cell_type": "code",
   "execution_count": 100,
   "metadata": {},
   "outputs": [
    {
     "data": {
      "text/plain": [
       "age                                                          2\nedu_level                                                    2\nrace                                                         0\ngender                                                       0\nfact         2018年3月14日16时48分许，被告人李某甲驾驶豫J*****轻型普通货车载王某某，沿南...\nlabels                                                      13\nName: 0, dtype: object"
      ]
     },
     "execution_count": 100,
     "metadata": {},
     "output_type": "execute_result"
    }
   ],
   "source": [
    "allCrime_DF.iloc[0,:]"
   ]
  },
  {
   "cell_type": "code",
   "execution_count": 114,
   "metadata": {},
   "outputs": [],
   "source": [
    "allCrime_DF.to_csv('allCrimal_df')"
   ]
  },
  {
   "cell_type": "code",
   "execution_count": 115,
   "metadata": {},
   "outputs": [],
   "source": [
    "read_cri = pd.read_csv('allCrimal_df',index_col=0)"
   ]
  },
  {
   "cell_type": "code",
   "execution_count": 116,
   "metadata": {},
   "outputs": [
    {
     "name": "stdout",
     "output_type": "stream",
     "text": [
      "   age  edu_level  race  gender  \\\n0    2          2     0       0   \n1    2          1     0       0   \n2    0          6     0       0   \n\n                                                fact  labels  \n0  2018年3月14日16时48分许，被告人李某甲驾驶豫J*****轻型普通货车载王某某，沿南...      13  \n1  一、单位行贿罪2012年至2016年期间，时任武汉**公司总经理潘某某（另案处理）为感谢武汉...     170  \n2  2018年5月8日23时25分许，被告人李某某酒后无证驾驶无号牌新大洲125型摩托车沿厢城街...     152  \n"
     ]
    }
   ],
   "source": [
    "print(read_cri.iloc[0:3])"
   ]
  },
  {
   "cell_type": "code",
   "execution_count": 118,
   "metadata": {},
   "outputs": [],
   "source": [
    "read_cri2 = read_cri.iloc[:,[0,1,2,3,5]]"
   ]
  },
  {
   "cell_type": "code",
   "execution_count": 119,
   "metadata": {},
   "outputs": [
    {
     "data": {
      "text/plain": [
       "19630"
      ]
     },
     "execution_count": 119,
     "metadata": {},
     "output_type": "execute_result"
    }
   ],
   "source": [
    "len(read_cri2)"
   ]
  },
  {
   "cell_type": "code",
   "execution_count": 121,
   "metadata": {},
   "outputs": [
    {
     "name": "stdout",
     "output_type": "stream",
     "text": [
      "                age     edu_level          race        gender        labels\ncount  19630.000000  19630.000000  19630.000000  19630.000000  19630.000000\nmean       1.113754      5.736271      0.079674      0.070352    122.312481\nstd        0.622198      1.572985      0.270795      0.255745     68.701329\nmin        0.000000      0.000000      0.000000      0.000000      0.000000\n25%        1.000000      6.000000      0.000000      0.000000     72.000000\n50%        1.000000      6.000000      0.000000      0.000000    152.000000\n75%        2.000000      7.000000      0.000000      0.000000    189.000000\nmax        2.000000      8.000000      1.000000      1.000000    210.000000\n"
     ]
    }
   ],
   "source": [
    "print(read_cri2.describe())"
   ]
  },
  {
   "cell_type": "code",
   "execution_count": 132,
   "metadata": {},
   "outputs": [],
   "source": [
    "gb_age = read_cri.groupby(['age'])"
   ]
  },
  {
   "cell_type": "code",
   "execution_count": 260,
   "metadata": {},
   "outputs": [
    {
     "data": {
      "text/plain": [
       "<matplotlib.axes._subplots.AxesSubplot at 0x2854a2aab70>"
      ]
     },
     "execution_count": 260,
     "metadata": {},
     "output_type": "execute_result"
    },
    {
     "data": {
      "image/png": "[encoded data removed]",
      "text/plain": [
       "<Figure size 432x288 with 1 Axes>"
      ]
     },
     "metadata": {},
     "output_type": "display_data"
    }
   ],
   "source": [
    "\n",
    "gb_age.size().plot.bar()"
   ]
  },
  {
   "cell_type": "code",
   "execution_count": 136,
   "metadata": {},
   "outputs": [],
   "source": [
    "gb_sex = read_cri.groupby(['gender'])"
   ]
  },
  {
   "cell_type": "code",
   "execution_count": 137,
   "metadata": {},
   "outputs": [
    {
     "data": {
      "text/plain": [
       "<matplotlib.axes._subplots.AxesSubplot at 0x28543dfae80>"
      ]
     },
     "execution_count": 137,
     "metadata": {},
     "output_type": "execute_result"
    },
    {
     "data": {
      "image/png": "[encoded data removed]",
      "text/plain": [
       "<Figure size 432x288 with 1 Axes>"
      ]
     },
     "metadata": {},
     "output_type": "display_data"
    }
   ],
   "source": [
    "gb_sex.size().plot.bar()"
   ]
  },
  {
   "cell_type": "code",
   "execution_count": 138,
   "metadata": {},
   "outputs": [],
   "source": [
    "def plot_se(features):\n",
    "    gb = read_cri.groupby([features])\n",
    "    gb.size().plot.bar()\n",
    "    "
   ]
  },
  {
   "cell_type": "code",
   "execution_count": 150,
   "metadata": {},
   "outputs": [],
   "source": [
    "gb = read_cri.groupby(['labels'])\n",
    "top = gb.size().sort_values(ascending=False)"
   ]
  },
  {
   "cell_type": "code",
   "execution_count": 159,
   "metadata": {},
   "outputs": [],
   "source": [
    "top10 = top[:20]"
   ]
  },
  {
   "cell_type": "code",
   "execution_count": 160,
   "metadata": {},
   "outputs": [
    {
     "data": {
      "text/plain": [
       "labels\n152    4822\n189    4078\n190    1855\n13     1401\n72     1217\n97      762\n1       635\n11      564\n6       397\n0       277\n119     184\n18      182\n185     142\n140     133\n74      133\n9       124\n75      124\n139     122\n7       118\n67      111\ndtype: int64"
      ]
     },
     "execution_count": 160,
     "metadata": {},
     "output_type": "execute_result"
    }
   ],
   "source": [
    "top10"
   ]
  },
  {
   "cell_type": "code",
   "execution_count": 168,
   "metadata": {},
   "outputs": [],
   "source": [
    "top10 = top10.reset_index(name = 'times')"
   ]
  },
  {
   "cell_type": "code",
   "execution_count": 170,
   "metadata": {},
   "outputs": [
    {
     "name": "stdout",
     "output_type": "stream",
     "text": [
      "    labels  times\n0      152   4822\n1      189   4078\n2      190   1855\n3       13   1401\n4       72   1217\n5       97    762\n6        1    635\n7       11    564\n8        6    397\n9        0    277\n10     119    184\n11      18    182\n12     185    142\n13     140    133\n14      74    133\n15       9    124\n16      75    124\n17     139    122\n18       7    118\n19      67    111\n"
     ]
    }
   ],
   "source": [
    "print(top10)"
   ]
  },
  {
   "cell_type": "code",
   "execution_count": 172,
   "metadata": {},
   "outputs": [],
   "source": [
    "import matplotlib.pyplot as plt"
   ]
  },
  {
   "cell_type": "code",
   "execution_count": 177,
   "metadata": {
    "collapsed": false
   },
   "outputs": [
    {
     "data": {
      "text/plain": [
       "<BarContainer object of 20 artists>"
      ]
     },
     "execution_count": 177,
     "metadata": {},
     "output_type": "execute_result"
    },
    {
     "data": {
      "image/png": "[encoded data removed]",
      "text/plain": [
       "<Figure size 432x288 with 1 Axes>"
      ]
     },
     "metadata": {},
     "output_type": "display_data"
    }
   ],
   "source": [
    "plt.bar(top10.iloc[:,0],top10.iloc[:,1])"
   ]
  },
  {
   "cell_type": "code",
   "execution_count": 232,
   "metadata": {},
   "outputs": [
    {
     "name": "stdout",
     "output_type": "stream",
     "text": [
      "危险驾驶 -- 4822\n盗窃 -- 4078\n故意伤害 -- 1855\n交通肇事 -- 1401\n走私、贩卖、运输、制造毒品 -- 1217\n诈骗 -- 762\n寻衅滋事 -- 635\n容留他人吸毒 -- 564\n开设赌场 -- 397\n妨害公务 -- 277\n非法持有、私藏枪支、弹药 -- 184\n抢劫 -- 182\n信用卡诈骗 -- 142\n非法拘禁 -- 133\n赌博 -- 133\n非法持有毒品 -- 124\n非法经营 -- 124\n故意毁坏财物 -- 122\n聚众斗殴 -- 118\n非法吸收公众存款 -- 111\n"
     ]
    }
   ],
   "source": [
    "name = []\n",
    "for i,j in zip(top10.iloc[:,0],top10.iloc[:,1]):\n",
    "    name.append([CRIME.accu[i],int(j)])\n",
    "    print(CRIME.accu[i],'--',j)"
   ]
  },
  {
   "cell_type": "code",
   "execution_count": 236,
   "metadata": {},
   "outputs": [
    {
     "data": {
      "text/plain": [
       "[['危险驾驶', 4822],\n ['盗窃', 4078],\n ['故意伤害', 1855],\n ['交通肇事', 1401],\n ['走私、贩卖、运输、制造毒品', 1217],\n ['诈骗', 762],\n ['寻衅滋事', 635],\n ['容留他人吸毒', 564],\n ['开设赌场', 397],\n ['妨害公务', 277],\n ['非法持有、私藏枪支、弹药', 184],\n ['抢劫', 182],\n ['信用卡诈骗', 142],\n ['非法拘禁', 133],\n ['赌博', 133],\n ['非法持有毒品', 124],\n ['非法经营', 124],\n ['故意毁坏财物', 122],\n ['聚众斗殴', 118],\n ['非法吸收公众存款', 111]]"
      ]
     },
     "execution_count": 236,
     "metadata": {},
     "output_type": "execute_result"
    }
   ],
   "source": [
    "name"
   ]
  },
  {
   "cell_type": "code",
   "execution_count": 247,
   "metadata": {},
   "outputs": [],
   "source": [
    "namea = np.array(name)"
   ]
  },
  {
   "cell_type": "code",
   "execution_count": 250,
   "metadata": {},
   "outputs": [
    {
     "data": {
      "text/plain": [
       "array([4822, 4078, 1855, 1401, 1217,  762,  635,  564,  397,  277,  184,\n        182,  142,  133,  133,  124,  124,  122,  118,  111])"
      ]
     },
     "execution_count": 250,
     "metadata": {},
     "output_type": "execute_result"
    }
   ],
   "source": [
    "type(namea)\n",
    "namea[:,1].astype(np.int)"
   ]
  },
  {
   "cell_type": "code",
   "execution_count": 253,
   "metadata": {},
   "outputs": [],
   "source": [
    "sum=[int(i) for i in namea[:,1]]"
   ]
  },
  {
   "cell_type": "code",
   "execution_count": 254,
   "metadata": {},
   "outputs": [],
   "source": [
    "ave = np.mean(sum)"
   ]
  },
  {
   "cell_type": "code",
   "execution_count": 258,
   "metadata": {
    "collapsed": false
   },
   "outputs": [
    {
     "data": {
      "image/png": "[encoded data removed]",
      "text/plain": [
       "<Figure size 864x720 with 1 Axes>"
      ]
     },
     "metadata": {},
     "output_type": "display_data"
    }
   ],
   "source": [
    "plt.figure(figsize=(12,10))\n",
    "plt.axvline(x=ave, color='b', linestyle='--', linewidth=1)\n",
    "plt.barh(namea[:,0],namea[:,1].astype(np.int))\n",
    "plt.show()"
   ]
  },
  {
   "cell_type": "code",
   "execution_count": 266,
   "metadata": {},
   "outputs": [
    {
     "data": {
      "text/plain": [
       "gender  labels\n0       152       4741\n        189       3822\n        190       1768\n        13        1338\n        72        1071\n        97         655\n        1          618\n        11         512\n        6          320\n1       189        256\n0       0          231\n        119        184\n        18         178\n1       72         146\n0       140        122\n        7          117\n        9          115\n        139        112\n        185        110\n        75         110\n1       97         107\n0       74         102\n        73         101\n        16          90\n1       190         87\n        152         81\n        6           77\n0       200         75\n        117         72\n        187         71\n                  ... \n        151          1\n        153          1\n1       7            1\n        204          1\n0       174          1\n1       102          1\n0       209          1\n        178          1\n        208          1\n        207          1\n        183          1\n        188          1\n1       19           1\n0       134          1\n        133          1\n        132          1\n        124          1\n1       20           1\n        22           1\n0       118          1\n1       36           1\n0       114          1\n        111          1\n1       54           1\n        68           1\n        71           1\n        81           1\n0       76           1\n1       99           1\n        205          1\nLength: 215, dtype: int64"
      ]
     },
     "execution_count": 266,
     "metadata": {},
     "output_type": "execute_result"
    }
   ],
   "source": [
    "gb2 = read_cri.groupby(['gender','labels'])\n",
    "gb2.size().sort_values(ascending=False)"
   ]
  },
  {
   "cell_type": "code",
   "execution_count": 267,
   "metadata": {},
   "outputs": [],
   "source": [
    "read_cri22 = pd.read_csv('allCrimal_df',index_col=0)"
   ]
  },
  {
   "cell_type": "code",
   "execution_count": 269,
   "metadata": {},
   "outputs": [
    {
     "data": {
      "text/plain": [
       "age                                                          2\nedu_level                                                    2\nrace                                                         0\ngender                                                       0\nfact         2018年3月14日16时48分许，被告人李某甲驾驶豫J*****轻型普通货车载王某某，沿南...\nlabels                                                      13\nName: 0, dtype: object"
      ]
     },
     "execution_count": 269,
     "metadata": {},
     "output_type": "execute_result"
    }
   ],
   "source": [
    "read_cri22.iloc[0]"
   ]
  },
  {
   "cell_type": "code",
   "execution_count": 281,
   "metadata": {},
   "outputs": [],
   "source": [
    "read_cri22_top2 = read_cri22[read_cri22['labels'].isin([152,13])]"
   ]
  },
  {
   "cell_type": "code",
   "execution_count": 282,
   "metadata": {},
   "outputs": [
    {
     "data": {
      "text/plain": [
       "6223"
      ]
     },
     "execution_count": 282,
     "metadata": {},
     "output_type": "execute_result"
    }
   ],
   "source": [
    "len(read_cri22_top5)"
   ]
  },
  {
   "cell_type": "code",
   "execution_count": 283,
   "metadata": {
    "collapsed": true
   },
   "outputs": [
    {
     "data": {
      "text/plain": [
       "labels\n152    4822\n189    4078\n190    1855\n13     1401\n72     1217\n97      762\n1       635\n11      564\n6       397\n0       277\n119     184\n18      182\n185     142\n140     133\n74      133\n9       124\n75      124\n139     122\n7       118\n67      111\n73      105\n16      100\n48       83\n200      81\n182      81\n187      78\n117      74\n22       70\n201      69\n149      67\n       ... \n126       2\n167       2\n94        2\n123       2\n159       2\n151       1\n153       1\n207       1\n124       1\n143       1\n137       1\n134       1\n133       1\n132       1\n208       1\n53        1\n118       1\n55        1\n114       1\n209       1\n111       1\n30        1\n174       1\n178       1\n76        1\n183       1\n188       1\n60        1\n49        1\n210       1\nLength: 139, dtype: int64"
      ]
     },
     "execution_count": 283,
     "metadata": {},
     "output_type": "execute_result"
    }
   ],
   "source": [
    "gb3 = read_cri.groupby(['labels'])\n",
    "gb3.size().sort_values(ascending=False)"
   ]
  },
  {
   "cell_type": "code",
   "execution_count": 297,
   "metadata": {
    "collapsed": true
   },
   "outputs": [
    {
     "data": {
      "text/plain": [
       "labels  gender\n152     0         4741\n13      0         1338\n152     1           81\n13      1           63\ndtype: int64"
      ]
     },
     "execution_count": 297,
     "metadata": {},
     "output_type": "execute_result"
    }
   ],
   "source": [
    "gb4 = read_cri22_top2.groupby(['labels','gender'])\n",
    "gb4.size().sort_values(ascending=False)"
   ]
  },
  {
   "cell_type": "code",
   "execution_count": 287,
   "metadata": {},
   "outputs": [
    {
     "name": "stdout",
     "output_type": "stream",
     "text": [
      "    age  edu_level  race  gender  \\\n0     2          2     0       0   \n2     0          6     0       0   \n5     1          6     0       0   \n10    0          6     0       0   \n19    2          6     0       0   \n20    1          1     0       0   \n21    1          7     0       0   \n24    1          1     0       1   \n25    1          6     0       0   \n26    1          6     0       0   \n\n                                                 fact  labels  \n0   2018年3月14日16时48分许，被告人李某甲驾驶豫J*****轻型普通货车载王某某，沿南...      13  \n2   2018年5月8日23时25分许，被告人李某某酒后无证驾驶无号牌新大洲125型摩托车沿厢城街...     152  \n5   2018年4月3日21时55分许，被告人余某某酒后无证驾驶皖K*****号轿车行驶至淮南市毛...     152  \n10  2018年3月14日下午5时许，被告人某某甲驾驶赣C****3号重型普通货车从平塘县通州镇方...      13  \n19  2017年9月2日7时许，被告人桑某某酒后驾驶鲁******牌小型客车沿本市市中区九曲庄路由...     152  \n20  2016年7月17日7时许，被告人张某某酒后驾驶辽B****8小型越野客车行经大连市中山区*...     152  \n21  2018年05月17日21时许，被告人林某某酒后驾驶陕K****K“长城”牌小型普通客车，沿...     152  \n24  2018年2月20日18时30分左右，被告人丛某某驾驶苏AS****号小型越野客车，沿如东X...      13  \n25  2018年5月11日2时许，被告人王某某酒后驾驶闽******小汽车至石狮市**镇**路**...     152  \n26  2018 年2 月12 日19 时31 分许，被告人朱某某酒后驾驶号牌为鄂A****1 灰色...     152  \n"
     ]
    }
   ],
   "source": [
    "print(read_cri22_top2.iloc[:10])"
   ]
  },
  {
   "cell_type": "code",
   "execution_count": 293,
   "metadata": {},
   "outputs": [],
   "source": [
    "read_cri22_top2.to_csv('trific2',index=False)"
   ]
  },
  {
   "cell_type": "code",
   "execution_count": 294,
   "metadata": {},
   "outputs": [],
   "source": [
    "trafic_fact = read_cri22_top2['fact']"
   ]
  },
  {
   "cell_type": "code",
   "execution_count": 296,
   "metadata": {},
   "outputs": [
    {
     "name": "stdout",
     "output_type": "stream",
     "text": [
      "6223\n"
     ]
    }
   ],
   "source": [
    "print(len(trafic_fact))"
   ]
  },
  {
   "cell_type": "code",
   "execution_count": 298,
   "metadata": {},
   "outputs": [],
   "source": [
    "trafic_values = trafic_fact.values"
   ]
  },
  {
   "cell_type": "code",
   "execution_count": 304,
   "metadata": {},
   "outputs": [],
   "source": [
    "import jieba\n",
    "def seq2vec(trafic_fact):\n",
    "    all_texts = []\n",
    "    stopword = open(r'D:\\code\\pycharm\\fairness\\data\\sifa\\stopword.txt','r',encoding='utf-8')\n",
    "    stopword_dict = [word.strip() for word in stopword.readlines()]\n",
    "    for fact in trafic_fact:\n",
    "        outstr = ''\n",
    "        result = jieba.cut(fact)\n",
    "        for word in result:\n",
    "            if word not in stopword_dict:\n",
    "                outstr+=word\n",
    "                outstr+=' '\n",
    "        all_texts.append(outstr)\n",
    "    return all_texts"
   ]
  },
  {
   "cell_type": "code",
   "execution_count": 308,
   "metadata": {},
   "outputs": [],
   "source": [
    "trafic_vec = seq2vec(trafic_values)"
   ]
  },
  {
   "cell_type": "code",
   "execution_count": 309,
   "metadata": {},
   "outputs": [
    {
     "data": {
      "text/plain": [
       "6223"
      ]
     },
     "execution_count": 309,
     "metadata": {},
     "output_type": "execute_result"
    }
   ],
   "source": [
    "len(trafic_vec)"
   ]
  },
  {
   "cell_type": "code",
   "execution_count": 310,
   "metadata": {},
   "outputs": [
    {
     "name": "stderr",
     "output_type": "stream",
     "text": [
      "Using TensorFlow backend.\n"
     ]
    }
   ],
   "source": [
    "from keras.preprocessing.text import Tokenizer\n",
    "from keras.layers.embeddings import Embedding\n",
    "from keras.preprocessing import sequence\n",
    "def vec2bow(trafic_vec):\n",
    "    tokenizer = Tokenizer(num_words=2000)\n",
    "    tokenizer.fit_on_texts(trafic_vec)\n",
    "    trafic_vec_seq = tokenizer.texts_to_sequences(trafic_vec)\n",
    "    trafic_fact = sequence.pad_sequences(trafic_vec_seq,maxlen=150)\n",
    "    return trafic_fact"
   ]
  },
  {
   "cell_type": "code",
   "execution_count": 311,
   "metadata": {},
   "outputs": [],
   "source": [
    "trafic_bow = vec2bow(trafic_vec)"
   ]
  },
  {
   "cell_type": "code",
   "execution_count": 313,
   "metadata": {},
   "outputs": [
    {
     "data": {
      "text/plain": [
       "6223"
      ]
     },
     "execution_count": 313,
     "metadata": {},
     "output_type": "execute_result"
    }
   ],
   "source": [
    "len(trafic_bow)"
   ]
  },
  {
   "cell_type": "code",
   "execution_count": 315,
   "metadata": {},
   "outputs": [],
   "source": [
    "trafic_labels = read_cri22_top2['labels']"
   ]
  },
  {
   "cell_type": "code",
   "execution_count": 317,
   "metadata": {},
   "outputs": [
    {
     "data": {
      "text/plain": [
       "6223"
      ]
     },
     "execution_count": 317,
     "metadata": {},
     "output_type": "execute_result"
    }
   ],
   "source": [
    "len(trafic_labels)"
   ]
  },
  {
   "cell_type": "code",
   "execution_count": 318,
   "metadata": {},
   "outputs": [],
   "source": [
    "from sklearn.model_selection import train_test_split\n",
    "X_train, X_test, y_train, y_test = train_test_split(trafic_bow, trafic_labels, test_size=0.33, random_state=2)"
   ]
  },
  {
   "cell_type": "code",
   "execution_count": 319,
   "metadata": {},
   "outputs": [
    {
     "data": {
      "text/plain": [
       "SVC(C=1.0, cache_size=200, class_weight=None, coef0=0.0,\n  decision_function_shape='ovr', degree=3, gamma='auto', kernel='rbf',\n  max_iter=-1, probability=False, random_state=None, shrinking=True,\n  tol=0.001, verbose=False)"
      ]
     },
     "execution_count": 319,
     "metadata": {},
     "output_type": "execute_result"
    }
   ],
   "source": [
    "from sklearn.svm import SVC\n",
    "model_svc = SVC()\n",
    "model_svc.fit(X_train,y_train)"
   ]
  },
  {
   "cell_type": "code",
   "execution_count": 320,
   "metadata": {},
   "outputs": [],
   "source": [
    "pred = model_svc.predict(X_test)"
   ]
  },
  {
   "cell_type": "code",
   "execution_count": 338,
   "metadata": {
    "collapsed": false
   },
   "outputs": [
    {
     "name": "stdout",
     "output_type": "stream",
     "text": [
      "             precision    recall  f1-score   support\n\n         13       0.00      0.00      0.00       425\n        152       0.79      1.00      0.88      1629\n\navg / total       0.63      0.79      0.70      2054\n\n"
     ]
    }
   ],
   "source": [
    "from sklearn.metrics import classification_report\n",
    "print(classification_report(y_test,pred))"
   ]
  },
  {
   "cell_type": "code",
   "execution_count": 355,
   "metadata": {},
   "outputs": [
    {
     "name": "stdout",
     "output_type": "stream",
     "text": [
      "[[   0  425]\n [   0 1629]]\n"
     ]
    }
   ],
   "source": [
    "from sklearn.metrics import accuracy_score\n",
    "from sklearn.metrics import confusion_matrix\n",
    "# accuracy_score(y_test,pred)\n",
    "print(confusion_matrix(y_test,pred))"
   ]
  },
  {
   "cell_type": "code",
   "execution_count": 332,
   "metadata": {},
   "outputs": [],
   "source": [
    "pred2 = model_svc.predict(X_train)"
   ]
  },
  {
   "cell_type": "code",
   "execution_count": 335,
   "metadata": {},
   "outputs": [
    {
     "data": {
      "text/plain": [
       "array([[ 976,    0],\n       [   0, 3193]], dtype=int64)"
      ]
     },
     "execution_count": 335,
     "metadata": {},
     "output_type": "execute_result"
    }
   ],
   "source": [
    "confusion_matrix(y_train,pred2)"
   ]
  },
  {
   "cell_type": "code",
   "execution_count": 337,
   "metadata": {},
   "outputs": [
    {
     "data": {
      "text/plain": [
       "array([[  0,   0,   0, ..., 603,  17,  20],\n       [  0,   0,   0, ..., 151,  18,   8],\n       [  0,   0,   0, ...,  24,   2,  41],\n       ...,\n       [  0,   0,   0, ...,  17,  20, 182],\n       [  0,   0,   0, ...,   8,  24, 337],\n       [  0,   0,   0, ...,  88,  18,   8]])"
      ]
     },
     "execution_count": 337,
     "metadata": {},
     "output_type": "execute_result"
    }
   ],
   "source": [
    "trafic_bow[:10]"
   ]
  },
  {
   "cell_type": "code",
   "execution_count": 357,
   "metadata": {},
   "outputs": [],
   "source": [
    "cfm = confusion_matrix(y_test,pred)"
   ]
  },
  {
   "cell_type": "code",
   "execution_count": 358,
   "metadata": {},
   "outputs": [
    {
     "data": {
      "text/plain": [
       "array([[   0,  425],\n       [   0, 1629]], dtype=int64)"
      ]
     },
     "execution_count": 358,
     "metadata": {},
     "output_type": "execute_result"
    }
   ],
   "source": [
    "cfm"
   ]
  },
  {
   "cell_type": "code",
   "execution_count": 361,
   "metadata": {},
   "outputs": [
    {
     "data": {
      "image/png": "[encoded data removed]",
      "text/plain": [
       "<Figure size 288x288 with 1 Axes>"
      ]
     },
     "metadata": {},
     "output_type": "display_data"
    }
   ],
   "source": [
    "import matplotlib.pyplot as plt\n",
    "plt.matshow(cfm,cmap=plt.cm.gray)\n",
    "plt.show()"
   ]
  },
  {
   "cell_type": "code",
   "execution_count": 363,
   "metadata": {},
   "outputs": [
    {
     "data": {
      "text/plain": [
       "array([[0.        , 0.26089626],\n       [0.        , 0.        ]])"
      ]
     },
     "execution_count": 363,
     "metadata": {},
     "output_type": "execute_result"
    }
   ],
   "source": [
    "#计算每一行的总值\n",
    "row_sums = np.sum(cfm,axis=1)\n",
    "err_matrix = cfm/row_sums\n",
    "#对err_matrix矩阵的对角线置0，因为这是预测正确的部分，不关心\n",
    "np.fill_diagonal(err_matrix,0)\n",
    "err_matrix"
   ]
  },
  {
   "cell_type": "code",
   "execution_count": 374,
   "metadata": {},
   "outputs": [
    {
     "data": {
      "text/plain": [
       "152    1629\n13      425\nName: labels, dtype: int64"
      ]
     },
     "execution_count": 374,
     "metadata": {},
     "output_type": "execute_result"
    }
   ],
   "source": [
    "y_test.value_counts()"
   ]
  },
  {
   "cell_type": "code",
   "execution_count": null,
   "metadata": {},
   "outputs": [],
   "source": []
  }
 ],
 "metadata": {
  "kernelspec": {
   "display_name": "Python 2",
   "language": "python",
   "name": "python2"
  },
  "language_info": {
   "codemirror_mode": {
    "name": "ipython",
    "version": 2
   },
   "file_extension": ".py",
   "mimetype": "text/x-python",
   "name": "python",
   "nbconvert_exporter": "python",
   "pygments_lexer": "ipython2",
   "version": "2.7.6"
  }
 },
 "nbformat": 4,
 "nbformat_minor": 0
}
