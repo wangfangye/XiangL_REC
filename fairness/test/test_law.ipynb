{
 "cells": [
  {
   "cell_type": "code",
   "execution_count": 18,
   "metadata": {},
   "outputs": [],
   "source": [
    "import json\n",
    "import codecs\n",
    "import pandas as pd"
   ]
  },
  {
   "cell_type": "code",
   "execution_count": 19,
   "metadata": {},
   "outputs": [],
   "source": [
    "path = r'D:\\code\\pycharm\\fairness\\data\\raw\\law\\data.json'\n",
    "path2 = r'D:\\code\\pycharm\\fairness\\data\\raw\\law\\data2.json'\n",
    "json_dict = []\n",
    "json_json = []\n",
    "with open(path,'r',encoding='utf-8') as load_f:\n",
    "    for json_line in load_f.readlines():\n",
    "        json_dict.append(json_line)\n",
    "        json_json.append(json.loads(json_line))\n",
    "# with codecs.open(path2,'r',encoding='utf-8') as load_f:\n",
    "#     json_dict = json.load(load_f)\n",
    "#     "
   ]
  },
  {
   "cell_type": "code",
   "execution_count": 23,
   "metadata": {},
   "outputs": [],
   "source": [
    "def read(line):\n",
    "    data = dict()\n",
    "    data['accusation'] = line['meta']['accusation']\n",
    "    data['relevant_articles'] = line['meta']['relevant_articles']\n",
    "    data['fact'] = line['fact']\n",
    "    data['race'] = line['crimal_information']['race']\n",
    "    data['name'] = line['crimal_information']['name']\n",
    "    data['gender'] = line['crimal_information']['gender']\n",
    "    data['age'] = line['crimal_information']['age']\n",
    "    data['edu_level'] = line['crimal_information']['edu_level']\n",
    "    return data\n",
    "law_dict = [read(line) for line in json_json]"
   ]
  },
  {
   "cell_type": "code",
   "execution_count": null,
   "metadata": {},
   "outputs": [],
   "source": []
  },
  {
   "cell_type": "code",
   "execution_count": 25,
   "metadata": {},
   "outputs": [],
   "source": [
    "law_df = pd.DataFrame(law_dict)\n",
    "# law_df.pop('crimal_information')\n",
    "# law_df.pop('meta')"
   ]
  },
  {
   "cell_type": "code",
   "execution_count": 26,
   "metadata": {},
   "outputs": [
    {
     "data": {
      "text/html": [
       "<div>\n",
       "<style scoped>\n",
       "    .dataframe tbody tr th:only-of-type {\n",
       "        vertical-align: middle;\n",
       "    }\n",
       "\n",
       "    .dataframe tbody tr th {\n",
       "        vertical-align: top;\n",
       "    }\n",
       "\n",
       "    .dataframe thead th {\n",
       "        text-align: right;\n",
       "    }\n",
       "</style>\n",
       "<table border=\"1\" class=\"dataframe\">\n",
       "  <thead>\n",
       "    <tr style=\"text-align: right;\">\n",
       "      <th></th>\n",
       "      <th>accusation</th>\n",
       "      <th>age</th>\n",
       "      <th>edu_level</th>\n",
       "      <th>fact</th>\n",
       "      <th>gender</th>\n",
       "      <th>name</th>\n",
       "      <th>race</th>\n",
       "      <th>relevant_articles</th>\n",
       "    </tr>\n",
       "  </thead>\n",
       "  <tbody>\n",
       "    <tr>\n",
       "      <th>1</th>\n",
       "      <td>[单位行贿罪和虚开增值税专用发票罪]</td>\n",
       "      <td>49</td>\n",
       "      <td>大学</td>\n",
       "      <td>一、单位行贿罪2012年至2016年期间，时任武汉**公司总经理潘某某（另案处理）为感谢武汉...</td>\n",
       "      <td>男</td>\n",
       "      <td>周某某</td>\n",
       "      <td>汉</td>\n",
       "      <td>[中华人民共和国刑法第三百九十三条]</td>\n",
       "    </tr>\n",
       "    <tr>\n",
       "      <th>2</th>\n",
       "      <td>[危险驾驶罪]</td>\n",
       "      <td>22</td>\n",
       "      <td>初中</td>\n",
       "      <td>2018年5月8日23时25分许，被告人李某某酒后无证驾驶无号牌新大洲125型摩托车沿厢城街...</td>\n",
       "      <td>男</td>\n",
       "      <td>李某某</td>\n",
       "      <td>汉</td>\n",
       "      <td>[中华人民共和国刑法第一百三十三条]</td>\n",
       "    </tr>\n",
       "    <tr>\n",
       "      <th>3</th>\n",
       "      <td>[盗窃罪]</td>\n",
       "      <td>50</td>\n",
       "      <td>小学</td>\n",
       "      <td>2018年1月上旬,被告人覃某某从湖北省来凤县乘车到龙山县城伺机盗窃,下车后在公墓山附近的等...</td>\n",
       "      <td>男</td>\n",
       "      <td>覃某某</td>\n",
       "      <td>土家</td>\n",
       "      <td>[中华人民共和国刑法第二百六十四条]</td>\n",
       "    </tr>\n",
       "    <tr>\n",
       "      <th>4</th>\n",
       "      <td>[盗窃罪]</td>\n",
       "      <td>54</td>\n",
       "      <td>高中</td>\n",
       "      <td>2016年9月初，被告人陈某某分别找到被告人王某甲、范某某、赵某某，提出盗窃海南省**公司（...</td>\n",
       "      <td>男</td>\n",
       "      <td>陈某某</td>\n",
       "      <td>汉</td>\n",
       "      <td>[中华人民共和国刑法第二百六十四条]</td>\n",
       "    </tr>\n",
       "  </tbody>\n",
       "</table>\n",
       "</div>"
      ],
      "text/plain": [
       "           accusation age edu_level  \\\n",
       "1  [单位行贿罪和虚开增值税专用发票罪]  49        大学   \n",
       "2             [危险驾驶罪]  22        初中   \n",
       "3               [盗窃罪]  50        小学   \n",
       "4               [盗窃罪]  54        高中   \n",
       "\n",
       "                                                fact gender name race  \\\n",
       "1  一、单位行贿罪2012年至2016年期间，时任武汉**公司总经理潘某某（另案处理）为感谢武汉...      男  周某某    汉   \n",
       "2  2018年5月8日23时25分许，被告人李某某酒后无证驾驶无号牌新大洲125型摩托车沿厢城街...      男  李某某    汉   \n",
       "3  2018年1月上旬,被告人覃某某从湖北省来凤县乘车到龙山县城伺机盗窃,下车后在公墓山附近的等...      男  覃某某   土家   \n",
       "4  2016年9月初，被告人陈某某分别找到被告人王某甲、范某某、赵某某，提出盗窃海南省**公司（...      男  陈某某    汉   \n",
       "\n",
       "    relevant_articles  \n",
       "1  [中华人民共和国刑法第三百九十三条]  \n",
       "2  [中华人民共和国刑法第一百三十三条]  \n",
       "3  [中华人民共和国刑法第二百六十四条]  \n",
       "4  [中华人民共和国刑法第二百六十四条]  "
      ]
     },
     "execution_count": 26,
     "metadata": {},
     "output_type": "execute_result"
    }
   ],
   "source": [
    "law_df.iloc[1:5]"
   ]
  },
  {
   "cell_type": "code",
   "execution_count": 27,
   "metadata": {},
   "outputs": [],
   "source": [
    "law_df.to_csv(\"law_df.csv\",index=False,sep=',')"
   ]
  },
  {
   "cell_type": "code",
   "execution_count": 129,
   "metadata": {},
   "outputs": [],
   "source": []
  },
  {
   "cell_type": "code",
   "execution_count": 125,
   "metadata": {},
   "outputs": [
    {
     "data": {
      "text/plain": [
       "{'meta': {'accusation': ['交通肇事罪'], 'relevant_articles': ['中华人民共和国刑法第一百三十三条']},\n",
       " 'fact': '2018年3月14日16时48分许，被告人李某甲驾驶豫J*****轻型普通货车载王某某，沿南乐县兴华路由西向东行驶至南乐县房产所门前时，车辆发生侧滑，先撞坏道路右侧非机动车道护栏，接着与被害人仇某某驾驶的电动三轮车相撞（在非机动车道内由西向东行驶），造成道路护栏和双方车辆不同程度损坏、仇某某受伤后经抢救无效死亡的后果。经南乐县公安局交巡警大队认定，李某甲负事故的全部责任。',\n",
       " 'crimal_information': {'race': '汉',\n",
       "  'name': '李某甲',\n",
       "  'gender': '男',\n",
       "  'age': '58',\n",
       "  'edu_level': '大专毕'}}"
      ]
     },
     "execution_count": 125,
     "metadata": {},
     "output_type": "execute_result"
    }
   ],
   "source": [
    "data"
   ]
  },
  {
   "cell_type": "code",
   "execution_count": 131,
   "metadata": {},
   "outputs": [
    {
     "data": {
      "text/plain": [
       "meta                                                            [交通肇事罪]\n",
       "fact                  2018年3月14日16时48分许，被告人李某甲驾驶豫J*****轻型普通货车载王某某，沿南...\n",
       "crimal_information                                                  NaN\n",
       "Name: accusation, dtype: object"
      ]
     },
     "execution_count": 131,
     "metadata": {},
     "output_type": "execute_result"
    }
   ],
   "source": [
    "law_df.iloc[0]"
   ]
  },
  {
   "cell_type": "code",
   "execution_count": null,
   "metadata": {},
   "outputs": [],
   "source": []
  }
 ],
 "metadata": {
  "kernelspec": {
   "display_name": "Python 3",
   "language": "python",
   "name": "python3"
  },
  "language_info": {
   "codemirror_mode": {
    "name": "ipython",
    "version": 3
   },
   "file_extension": ".py",
   "mimetype": "text/x-python",
   "name": "python",
   "nbconvert_exporter": "python",
   "pygments_lexer": "ipython3",
   "version": "3.6.3"
  }
 },
 "nbformat": 4,
 "nbformat_minor": 1
}
