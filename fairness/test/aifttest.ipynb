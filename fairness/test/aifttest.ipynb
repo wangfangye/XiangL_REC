{
 "cells": [
  {
   "cell_type": "code",
   "execution_count": 6,
   "metadata": {
    "collapsed": true
   },
   "outputs": [],
   "source": [
    "import aif360 as AIF"
   ]
  },
  {
   "cell_type": "code",
   "execution_count": 8,
   "metadata": {},
   "outputs": [
    {
     "name": "stderr",
     "output_type": "stream",
     "text": [
      "WARNING:root:'scores' has no well-defined meaning out of range [0, 1].\n"
     ]
    }
   ],
   "source": [
    "from aif360.datasets import GermanDataset\n",
    "\n",
    "german = GermanDataset()"
   ]
  },
  {
   "cell_type": "code",
   "execution_count": 16,
   "metadata": {},
   "outputs": [
    {
     "ename": "AttributeError",
     "evalue": "'GermanDataset' object has no attribute 'loc'",
     "traceback": [
      "\u001b[1;31m---------------------------------------------------------------------------\u001b[0m",
      "\u001b[1;31mAttributeError\u001b[0m                            Traceback (most recent call last)",
      "\u001b[1;32m<ipython-input-16-f74c908233ed>\u001b[0m in \u001b[0;36m<module>\u001b[1;34m\u001b[0m\n\u001b[1;32m----> 1\u001b[1;33m \u001b[0mgerman\u001b[0m\u001b[1;33m.\u001b[0m\u001b[0mloc\u001b[0m\u001b[1;33m[\u001b[0m\u001b[1;36m1\u001b[0m\u001b[1;33m]\u001b[0m\u001b[1;33m\u001b[0m\u001b[0m\n\u001b[0m",
      "\u001b[1;31mAttributeError\u001b[0m: 'GermanDataset' object has no attribute 'loc'"
     ],
     "output_type": "error"
    }
   ],
   "source": [
    "german.loc[1]"
   ]
  },
  {
   "cell_type": "code",
   "execution_count": 17,
   "metadata": {},
   "outputs": [],
   "source": [
    "u = [{'sex': 1, 'age': 1}, {'sex': 0}]"
   ]
  },
  {
   "cell_type": "code",
   "execution_count": 18,
   "metadata": {},
   "outputs": [],
   "source": [
    "p = [{'sex': 1, 'age': 0}]"
   ]
  },
  {
   "cell_type": "code",
   "execution_count": 21,
   "metadata": {},
   "outputs": [],
   "source": [
    "from aif360.metrics import DatasetMetric\n",
    "dm = DatasetMetric(german, unprivileged_groups=u, privileged_groups=p)"
   ]
  },
  {
   "cell_type": "code",
   "execution_count": 32,
   "metadata": {},
   "outputs": [
    {
     "data": {
      "text/plain": [
       "1000.0"
      ]
     },
     "execution_count": 32,
     "metadata": {},
     "output_type": "execute_result"
    }
   ],
   "source": [
    "dm.num_instances()"
   ]
  },
  {
   "cell_type": "code",
   "execution_count": 27,
   "metadata": {},
   "outputs": [],
   "source": [
    "import numpy as np\n",
    "import pandas as pd\n",
    "data = np.arange(12).reshape((3, 4)).T\n",
    "cols = ['one', 'two', 'three', 'label']\n",
    "labs = np.ones((4, 1))\n",
    "\n",
    "df = pd.DataFrame(data=np.concatenate((data, labs), axis=1), columns=cols)"
   ]
  },
  {
   "cell_type": "code",
   "execution_count": 31,
   "metadata": {},
   "outputs": [
    {
     "name": "stdout",
     "output_type": "stream",
     "text": [
      "   one  two  three  label\n0  0.0  4.0    8.0    1.0\n1  1.0  5.0    9.0    1.0\n2  2.0  6.0   10.0    1.0\n3  3.0  7.0   11.0    1.0\n"
     ]
    }
   ],
   "source": [
    "print(df)"
   ]
  },
  {
   "cell_type": "code",
   "execution_count": 34,
   "metadata": {},
   "outputs": [],
   "source": [
    "import numpy as np\n",
    "import pandas as pd\n",
    "from scipy.spatial.distance import cdist\n",
    "\n",
    "from aif360.datasets import StructuredDataset\n",
    "from aif360.metrics import SampleDistortionMetric\n",
    "sd = StructuredDataset(df=df, label_names=['label'],\n",
    "    protected_attribute_names=['one', 'three'])"
   ]
  },
  {
   "cell_type": "code",
   "execution_count": 35,
   "metadata": {},
   "outputs": [],
   "source": [
    "distorted = data + 1\n",
    "\n",
    "sd_distorted = sd.copy(True)\n",
    "sd_distorted.features = distorted"
   ]
  },
  {
   "cell_type": "code",
   "execution_count": 37,
   "metadata": {},
   "outputs": [
    {
     "name": "stdout",
     "output_type": "stream",
     "text": [
      "               instance weights            features                           \\\n                                protected attribute      protected attribute   \n                                                one  two               three   \ninstance names                                                                 \n0                           1.0                 0.0  4.0                 8.0   \n1                           1.0                 1.0  5.0                 9.0   \n2                           1.0                 2.0  6.0                10.0   \n3                           1.0                 3.0  7.0                11.0   \n\n               labels  \n                       \n                       \ninstance names         \n0                 1.0  \n1                 1.0  \n2                 1.0  \n3                 1.0  \n"
     ]
    }
   ],
   "source": [
    "print(sd)"
   ]
  },
  {
   "cell_type": "code",
   "execution_count": 38,
   "metadata": {},
   "outputs": [
    {
     "name": "stdout",
     "output_type": "stream",
     "text": [
      "               instance weights            features                           \\\n                                protected attribute      protected attribute   \n                                                one  two               three   \ninstance names                                                                 \n0                           1.0                 0.0  5.0                 8.0   \n1                           1.0                 1.0  6.0                 9.0   \n2                           1.0                 2.0  7.0                10.0   \n3                           1.0                 3.0  8.0                11.0   \n\n               labels  \n                       \n                       \ninstance names         \n0                 1.0  \n1                 1.0  \n2                 1.0  \n3                 1.0  \n"
     ]
    }
   ],
   "source": [
    "print(sd_distorted)"
   ]
  },
  {
   "cell_type": "code",
   "execution_count": null,
   "metadata": {},
   "outputs": [],
   "source": []
  }
 ],
 "metadata": {
  "kernelspec": {
   "display_name": "Python 2",
   "language": "python",
   "name": "python2"
  },
  "language_info": {
   "codemirror_mode": {
    "name": "ipython",
    "version": 2
   },
   "file_extension": ".py",
   "mimetype": "text/x-python",
   "name": "python",
   "nbconvert_exporter": "python",
   "pygments_lexer": "ipython2",
   "version": "2.7.6"
  }
 },
 "nbformat": 4,
 "nbformat_minor": 0
}
